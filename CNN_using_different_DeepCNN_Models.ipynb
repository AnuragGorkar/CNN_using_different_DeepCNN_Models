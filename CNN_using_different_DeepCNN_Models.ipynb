{
  "nbformat": 4,
  "nbformat_minor": 0,
  "metadata": {
    "colab": {
      "name": "CNN_using_different_DeepCNN_Models.ipynb",
      "provenance": [],
      "collapsed_sections": [],
      "authorship_tag": "ABX9TyPb7qT2YwcHIMR2jUE8N/Tw",
      "include_colab_link": true
    },
    "kernelspec": {
      "name": "python3",
      "display_name": "Python 3"
    },
    "accelerator": "GPU",
    "widgets": {
      "application/vnd.jupyter.widget-state+json": {
        "0a6b58b6f47e4ce58454de2f0285af3e": {
          "model_module": "@jupyter-widgets/controls",
          "model_name": "HBoxModel",
          "state": {
            "_view_name": "HBoxView",
            "_dom_classes": [],
            "_model_name": "HBoxModel",
            "_view_module": "@jupyter-widgets/controls",
            "_model_module_version": "1.5.0",
            "_view_count": null,
            "_view_module_version": "1.5.0",
            "box_style": "",
            "layout": "IPY_MODEL_7efc6d44e5ba44bbb3290905b43ac5cb",
            "_model_module": "@jupyter-widgets/controls",
            "children": [
              "IPY_MODEL_b4fb194a9aca4368a996d5c5427c67c6",
              "IPY_MODEL_87b916b4dd964c45857b2b2990b45784"
            ]
          }
        },
        "7efc6d44e5ba44bbb3290905b43ac5cb": {
          "model_module": "@jupyter-widgets/base",
          "model_name": "LayoutModel",
          "state": {
            "_view_name": "LayoutView",
            "grid_template_rows": null,
            "right": null,
            "justify_content": null,
            "_view_module": "@jupyter-widgets/base",
            "overflow": null,
            "_model_module_version": "1.2.0",
            "_view_count": null,
            "flex_flow": null,
            "width": null,
            "min_width": null,
            "border": null,
            "align_items": null,
            "bottom": null,
            "_model_module": "@jupyter-widgets/base",
            "top": null,
            "grid_column": null,
            "overflow_y": null,
            "overflow_x": null,
            "grid_auto_flow": null,
            "grid_area": null,
            "grid_template_columns": null,
            "flex": null,
            "_model_name": "LayoutModel",
            "justify_items": null,
            "grid_row": null,
            "max_height": null,
            "align_content": null,
            "visibility": null,
            "align_self": null,
            "height": null,
            "min_height": null,
            "padding": null,
            "grid_auto_rows": null,
            "grid_gap": null,
            "max_width": null,
            "order": null,
            "_view_module_version": "1.2.0",
            "grid_template_areas": null,
            "object_position": null,
            "object_fit": null,
            "grid_auto_columns": null,
            "margin": null,
            "display": null,
            "left": null
          }
        },
        "b4fb194a9aca4368a996d5c5427c67c6": {
          "model_module": "@jupyter-widgets/controls",
          "model_name": "IntProgressModel",
          "state": {
            "_view_name": "ProgressView",
            "style": "IPY_MODEL_bcaf59e9c93749a5873a8150c7a6add5",
            "_dom_classes": [],
            "description": "",
            "_model_name": "IntProgressModel",
            "bar_style": "success",
            "max": 46827520,
            "_view_module": "@jupyter-widgets/controls",
            "_model_module_version": "1.5.0",
            "value": 46827520,
            "_view_count": null,
            "_view_module_version": "1.5.0",
            "orientation": "horizontal",
            "min": 0,
            "description_tooltip": null,
            "_model_module": "@jupyter-widgets/controls",
            "layout": "IPY_MODEL_d272da1cb10f44e8a1cdf39922af5d3f"
          }
        },
        "87b916b4dd964c45857b2b2990b45784": {
          "model_module": "@jupyter-widgets/controls",
          "model_name": "HTMLModel",
          "state": {
            "_view_name": "HTMLView",
            "style": "IPY_MODEL_a3020225c45c48c1a364a430fd395388",
            "_dom_classes": [],
            "description": "",
            "_model_name": "HTMLModel",
            "placeholder": "​",
            "_view_module": "@jupyter-widgets/controls",
            "_model_module_version": "1.5.0",
            "value": "100% 44.7M/44.7M [00:00&lt;00:00, 72.2MB/s]",
            "_view_count": null,
            "_view_module_version": "1.5.0",
            "description_tooltip": null,
            "_model_module": "@jupyter-widgets/controls",
            "layout": "IPY_MODEL_dda1e0b2e6b149089a181aaca148b8a4"
          }
        },
        "bcaf59e9c93749a5873a8150c7a6add5": {
          "model_module": "@jupyter-widgets/controls",
          "model_name": "ProgressStyleModel",
          "state": {
            "_view_name": "StyleView",
            "_model_name": "ProgressStyleModel",
            "description_width": "",
            "_view_module": "@jupyter-widgets/base",
            "_model_module_version": "1.5.0",
            "_view_count": null,
            "_view_module_version": "1.2.0",
            "bar_color": null,
            "_model_module": "@jupyter-widgets/controls"
          }
        },
        "d272da1cb10f44e8a1cdf39922af5d3f": {
          "model_module": "@jupyter-widgets/base",
          "model_name": "LayoutModel",
          "state": {
            "_view_name": "LayoutView",
            "grid_template_rows": null,
            "right": null,
            "justify_content": null,
            "_view_module": "@jupyter-widgets/base",
            "overflow": null,
            "_model_module_version": "1.2.0",
            "_view_count": null,
            "flex_flow": null,
            "width": null,
            "min_width": null,
            "border": null,
            "align_items": null,
            "bottom": null,
            "_model_module": "@jupyter-widgets/base",
            "top": null,
            "grid_column": null,
            "overflow_y": null,
            "overflow_x": null,
            "grid_auto_flow": null,
            "grid_area": null,
            "grid_template_columns": null,
            "flex": null,
            "_model_name": "LayoutModel",
            "justify_items": null,
            "grid_row": null,
            "max_height": null,
            "align_content": null,
            "visibility": null,
            "align_self": null,
            "height": null,
            "min_height": null,
            "padding": null,
            "grid_auto_rows": null,
            "grid_gap": null,
            "max_width": null,
            "order": null,
            "_view_module_version": "1.2.0",
            "grid_template_areas": null,
            "object_position": null,
            "object_fit": null,
            "grid_auto_columns": null,
            "margin": null,
            "display": null,
            "left": null
          }
        },
        "a3020225c45c48c1a364a430fd395388": {
          "model_module": "@jupyter-widgets/controls",
          "model_name": "DescriptionStyleModel",
          "state": {
            "_view_name": "StyleView",
            "_model_name": "DescriptionStyleModel",
            "description_width": "",
            "_view_module": "@jupyter-widgets/base",
            "_model_module_version": "1.5.0",
            "_view_count": null,
            "_view_module_version": "1.2.0",
            "_model_module": "@jupyter-widgets/controls"
          }
        },
        "dda1e0b2e6b149089a181aaca148b8a4": {
          "model_module": "@jupyter-widgets/base",
          "model_name": "LayoutModel",
          "state": {
            "_view_name": "LayoutView",
            "grid_template_rows": null,
            "right": null,
            "justify_content": null,
            "_view_module": "@jupyter-widgets/base",
            "overflow": null,
            "_model_module_version": "1.2.0",
            "_view_count": null,
            "flex_flow": null,
            "width": null,
            "min_width": null,
            "border": null,
            "align_items": null,
            "bottom": null,
            "_model_module": "@jupyter-widgets/base",
            "top": null,
            "grid_column": null,
            "overflow_y": null,
            "overflow_x": null,
            "grid_auto_flow": null,
            "grid_area": null,
            "grid_template_columns": null,
            "flex": null,
            "_model_name": "LayoutModel",
            "justify_items": null,
            "grid_row": null,
            "max_height": null,
            "align_content": null,
            "visibility": null,
            "align_self": null,
            "height": null,
            "min_height": null,
            "padding": null,
            "grid_auto_rows": null,
            "grid_gap": null,
            "max_width": null,
            "order": null,
            "_view_module_version": "1.2.0",
            "grid_template_areas": null,
            "object_position": null,
            "object_fit": null,
            "grid_auto_columns": null,
            "margin": null,
            "display": null,
            "left": null
          }
        }
      }
    }
  },
  "cells": [
    {
      "cell_type": "markdown",
      "metadata": {
        "id": "view-in-github",
        "colab_type": "text"
      },
      "source": [
        "<a href=\"https://colab.research.google.com/github/AnuragGorkar/CNN_using_different_DeepCNN_Models/blob/master/CNN_using_different_DeepCNN_Models.ipynb\" target=\"_parent\"><img src=\"https://colab.research.google.com/assets/colab-badge.svg\" alt=\"Open In Colab\"/></a>"
      ]
    },
    {
      "cell_type": "code",
      "metadata": {
        "id": "TCwnKkdskjSn",
        "colab_type": "code",
        "colab": {}
      },
      "source": [
        "import matplotlib.pyplot as plt\n",
        "import numpy as np\n",
        "import copy\n",
        "\n",
        "import torch \n",
        "import torchvision\n",
        "import torchvision.transforms as transforms\n",
        "import torch.nn as nn\n",
        "import torch.optim as optim"
      ],
      "execution_count": 0,
      "outputs": []
    },
    {
      "cell_type": "code",
      "metadata": {
        "id": "VDIalvgkk97g",
        "colab_type": "code",
        "outputId": "5904883f-7354-4cd0-ceb7-60bf8d45d75b",
        "colab": {
          "base_uri": "https://localhost:8080/",
          "height": 34
        }
      },
      "source": [
        "device = torch.device(\"cuda:0\" if torch.cuda.is_available() else \"cpu\" )\n",
        "print(device)"
      ],
      "execution_count": 0,
      "outputs": [
        {
          "output_type": "stream",
          "text": [
            "cuda:0\n"
          ],
          "name": "stdout"
        }
      ]
    },
    {
      "cell_type": "markdown",
      "metadata": {
        "id": "tvzSMVFUlk4S",
        "colab_type": "text"
      },
      "source": [
        "# DATASET, TRANSFORMS AND VISUALIZATION"
      ]
    },
    {
      "cell_type": "code",
      "metadata": {
        "id": "TVrI-4Zzlhdc",
        "colab_type": "code",
        "colab": {}
      },
      "source": [
        "transform_train = transforms.Compose([\n",
        "                                     transforms.RandomResizedCrop(224),\n",
        "                                     transforms.ToTensor(),\n",
        "                                     transforms.Normalize((0.5,0.5,0.5), (0.5,0.5,0.5)) \n",
        "                                     ])\n",
        "transform_test = transforms.Compose([\n",
        "                                     transforms.RandomResizedCrop(224),\n",
        "                                     transforms.ToTensor(),\n",
        "                                     transforms.Normalize((0.5,0.5,0.5), (0.5,0.5,0.5)) \n",
        "                                     ])"
      ],
      "execution_count": 0,
      "outputs": []
    },
    {
      "cell_type": "code",
      "metadata": {
        "id": "_a8HcwaRm03n",
        "colab_type": "code",
        "outputId": "acedc340-7536-48c8-b6e3-6cdab22a7ec5",
        "colab": {
          "base_uri": "https://localhost:8080/",
          "height": 50
        }
      },
      "source": [
        "trainset = torchvision.datasets.CIFAR10(root = './data', train = True, download = True, transform = transform_train)\n",
        "testset = torchvision.datasets.CIFAR10(root = './data', train = False, download = True, transform = transform_test)"
      ],
      "execution_count": 0,
      "outputs": [
        {
          "output_type": "stream",
          "text": [
            "Files already downloaded and verified\n",
            "Files already downloaded and verified\n"
          ],
          "name": "stdout"
        }
      ]
    },
    {
      "cell_type": "code",
      "metadata": {
        "id": "Wf5jfb8Gnf0S",
        "colab_type": "code",
        "colab": {}
      },
      "source": [
        "num_classes = 10\n",
        "batch_size = 4"
      ],
      "execution_count": 0,
      "outputs": []
    },
    {
      "cell_type": "code",
      "metadata": {
        "id": "EOO23csSnp16",
        "colab_type": "code",
        "colab": {}
      },
      "source": [
        "trainloader = torch.utils.data.DataLoader(trainset, batch_size = batch_size, shuffle = True)"
      ],
      "execution_count": 0,
      "outputs": []
    },
    {
      "cell_type": "code",
      "metadata": {
        "id": "ULMI3p8soiGG",
        "colab_type": "code",
        "outputId": "439aee34-82fd-47d8-9497-e85be8c8e1b6",
        "colab": {
          "base_uri": "https://localhost:8080/",
          "height": 67
        }
      },
      "source": [
        "dataiter = iter(trainloader)\n",
        "\n",
        "images, labels = dataiter.next()\n",
        "\n",
        "print(images.shape)\n",
        "print(images[1].shape)\n",
        "print(labels[1].item())"
      ],
      "execution_count": 0,
      "outputs": [
        {
          "output_type": "stream",
          "text": [
            "torch.Size([4, 3, 224, 224])\n",
            "torch.Size([3, 224, 224])\n",
            "6\n"
          ],
          "name": "stdout"
        }
      ]
    },
    {
      "cell_type": "code",
      "metadata": {
        "id": "h9U-MhDso-fe",
        "colab_type": "code",
        "colab": {}
      },
      "source": [
        "def imshow(img, title):\n",
        "  npimg = img.numpy() / 2 + 0.5\n",
        "  plt.figure(figsize=(batch_size, 1))\n",
        "  plt.imshow(np.transpose(npimg, (1,2,0)))\n",
        "  plt.title(title)\n",
        "  plt.show()"
      ],
      "execution_count": 0,
      "outputs": []
    },
    {
      "cell_type": "code",
      "metadata": {
        "id": "Gak31ATWp1JA",
        "colab_type": "code",
        "colab": {}
      },
      "source": [
        "def show_batch_images(dataloader):\n",
        "  images, labels = next(iter(dataloader))\n",
        "  img = torchvision.utils.make_grid(images)\n",
        "  imshow(img, title =  [x.item() for x in labels])"
      ],
      "execution_count": 0,
      "outputs": []
    },
    {
      "cell_type": "code",
      "metadata": {
        "id": "HuEz2wMiq2U4",
        "colab_type": "code",
        "outputId": "4a97c46a-2339-43d6-a114-c993f39d23a3",
        "colab": {
          "base_uri": "https://localhost:8080/",
          "height": 421
        }
      },
      "source": [
        "for i in range(4):\n",
        "  show_batch_images(trainloader)"
      ],
      "execution_count": 0,
      "outputs": [
        {
          "output_type": "display_data",
          "data": {
            "image/png": "[encoded data removed]",
            "text/plain": [
              "<Figure size 288x72 with 1 Axes>"
            ]
          },
          "metadata": {
            "tags": []
          }
        },
        {
          "output_type": "display_data",
          "data": {
            "image/png": "[encoded data removed]",
            "text/plain": [
              "<Figure size 288x72 with 1 Axes>"
            ]
          },
          "metadata": {
            "tags": []
          }
        },
        {
          "output_type": "display_data",
          "data": {
            "image/png": "[encoded data removed]",
            "text/plain": [
              "<Figure size 288x72 with 1 Axes>"
            ]
          },
          "metadata": {
            "tags": []
          }
        },
        {
          "output_type": "display_data",
          "data": {
            "image/png": "[encoded data removed]",
            "text/plain": [
              "<Figure size 288x72 with 1 Axes>"
            ]
          },
          "metadata": {
            "tags": []
          }
        }
      ]
    },
    {
      "cell_type": "markdown",
      "metadata": {
        "id": "0jV4omLMrfOt",
        "colab_type": "text"
      },
      "source": [
        "# VGG - 16 MODEL"
      ]
    },
    {
      "cell_type": "code",
      "metadata": {
        "id": "Ws_vzFSSre4d",
        "colab_type": "code",
        "colab": {}
      },
      "source": [
        "from torchvision import models "
      ],
      "execution_count": 0,
      "outputs": []
    },
    {
      "cell_type": "code",
      "metadata": {
        "id": "VvAGcgPMq5K6",
        "colab_type": "code",
        "colab": {}
      },
      "source": [
        "VGG = models.vgg16_bn()"
      ],
      "execution_count": 0,
      "outputs": []
    },
    {
      "cell_type": "code",
      "metadata": {
        "id": "FFFw83wasHGs",
        "colab_type": "code",
        "outputId": "0ef6985a-3a32-4197-b047-a59dde838f54",
        "colab": {
          "base_uri": "https://localhost:8080/",
          "height": 991
        }
      },
      "source": [
        "print(VGG)"
      ],
      "execution_count": 0,
      "outputs": [
        {
          "output_type": "stream",
          "text": [
            "VGG(\n",
            "  (features): Sequential(\n",
            "    (0): Conv2d(3, 64, kernel_size=(3, 3), stride=(1, 1), padding=(1, 1))\n",
            "    (1): BatchNorm2d(64, eps=1e-05, momentum=0.1, affine=True, track_running_stats=True)\n",
            "    (2): ReLU(inplace=True)\n",
            "    (3): Conv2d(64, 64, kernel_size=(3, 3), stride=(1, 1), padding=(1, 1))\n",
            "    (4): BatchNorm2d(64, eps=1e-05, momentum=0.1, affine=True, track_running_stats=True)\n",
            "    (5): ReLU(inplace=True)\n",
            "    (6): MaxPool2d(kernel_size=2, stride=2, padding=0, dilation=1, ceil_mode=False)\n",
            "    (7): Conv2d(64, 128, kernel_size=(3, 3), stride=(1, 1), padding=(1, 1))\n",
            "    (8): BatchNorm2d(128, eps=1e-05, momentum=0.1, affine=True, track_running_stats=True)\n",
            "    (9): ReLU(inplace=True)\n",
            "    (10): Conv2d(128, 128, kernel_size=(3, 3), stride=(1, 1), padding=(1, 1))\n",
            "    (11): BatchNorm2d(128, eps=1e-05, momentum=0.1, affine=True, track_running_stats=True)\n",
            "    (12): ReLU(inplace=True)\n",
            "    (13): MaxPool2d(kernel_size=2, stride=2, padding=0, dilation=1, ceil_mode=False)\n",
            "    (14): Conv2d(128, 256, kernel_size=(3, 3), stride=(1, 1), padding=(1, 1))\n",
            "    (15): BatchNorm2d(256, eps=1e-05, momentum=0.1, affine=True, track_running_stats=True)\n",
            "    (16): ReLU(inplace=True)\n",
            "    (17): Conv2d(256, 256, kernel_size=(3, 3), stride=(1, 1), padding=(1, 1))\n",
            "    (18): BatchNorm2d(256, eps=1e-05, momentum=0.1, affine=True, track_running_stats=True)\n",
            "    (19): ReLU(inplace=True)\n",
            "    (20): Conv2d(256, 256, kernel_size=(3, 3), stride=(1, 1), padding=(1, 1))\n",
            "    (21): BatchNorm2d(256, eps=1e-05, momentum=0.1, affine=True, track_running_stats=True)\n",
            "    (22): ReLU(inplace=True)\n",
            "    (23): MaxPool2d(kernel_size=2, stride=2, padding=0, dilation=1, ceil_mode=False)\n",
            "    (24): Conv2d(256, 512, kernel_size=(3, 3), stride=(1, 1), padding=(1, 1))\n",
            "    (25): BatchNorm2d(512, eps=1e-05, momentum=0.1, affine=True, track_running_stats=True)\n",
            "    (26): ReLU(inplace=True)\n",
            "    (27): Conv2d(512, 512, kernel_size=(3, 3), stride=(1, 1), padding=(1, 1))\n",
            "    (28): BatchNorm2d(512, eps=1e-05, momentum=0.1, affine=True, track_running_stats=True)\n",
            "    (29): ReLU(inplace=True)\n",
            "    (30): Conv2d(512, 512, kernel_size=(3, 3), stride=(1, 1), padding=(1, 1))\n",
            "    (31): BatchNorm2d(512, eps=1e-05, momentum=0.1, affine=True, track_running_stats=True)\n",
            "    (32): ReLU(inplace=True)\n",
            "    (33): MaxPool2d(kernel_size=2, stride=2, padding=0, dilation=1, ceil_mode=False)\n",
            "    (34): Conv2d(512, 512, kernel_size=(3, 3), stride=(1, 1), padding=(1, 1))\n",
            "    (35): BatchNorm2d(512, eps=1e-05, momentum=0.1, affine=True, track_running_stats=True)\n",
            "    (36): ReLU(inplace=True)\n",
            "    (37): Conv2d(512, 512, kernel_size=(3, 3), stride=(1, 1), padding=(1, 1))\n",
            "    (38): BatchNorm2d(512, eps=1e-05, momentum=0.1, affine=True, track_running_stats=True)\n",
            "    (39): ReLU(inplace=True)\n",
            "    (40): Conv2d(512, 512, kernel_size=(3, 3), stride=(1, 1), padding=(1, 1))\n",
            "    (41): BatchNorm2d(512, eps=1e-05, momentum=0.1, affine=True, track_running_stats=True)\n",
            "    (42): ReLU(inplace=True)\n",
            "    (43): MaxPool2d(kernel_size=2, stride=2, padding=0, dilation=1, ceil_mode=False)\n",
            "  )\n",
            "  (avgpool): AdaptiveAvgPool2d(output_size=(7, 7))\n",
            "  (classifier): Sequential(\n",
            "    (0): Linear(in_features=25088, out_features=4096, bias=True)\n",
            "    (1): ReLU(inplace=True)\n",
            "    (2): Dropout(p=0.5, inplace=False)\n",
            "    (3): Linear(in_features=4096, out_features=4096, bias=True)\n",
            "    (4): ReLU(inplace=True)\n",
            "    (5): Dropout(p=0.5, inplace=False)\n",
            "    (6): Linear(in_features=4096, out_features=1000, bias=True)\n",
            "  )\n",
            ")\n"
          ],
          "name": "stdout"
        }
      ]
    },
    {
      "cell_type": "code",
      "metadata": {
        "id": "14XpikNasNT0",
        "colab_type": "code",
        "outputId": "9433778b-5f9a-432b-bfa8-07427fc6f073",
        "colab": {
          "base_uri": "https://localhost:8080/",
          "height": 34
        }
      },
      "source": [
        "print(VGG.features[0])"
      ],
      "execution_count": 0,
      "outputs": [
        {
          "output_type": "stream",
          "text": [
            "Conv2d(3, 64, kernel_size=(3, 3), stride=(1, 1), padding=(1, 1))\n"
          ],
          "name": "stdout"
        }
      ]
    },
    {
      "cell_type": "code",
      "metadata": {
        "id": "r_B0fifStDRB",
        "colab_type": "code",
        "outputId": "a21d3c81-a13b-46d9-b383-856a0359d17a",
        "colab": {
          "base_uri": "https://localhost:8080/",
          "height": 34
        }
      },
      "source": [
        "print(VGG.classifier[6])"
      ],
      "execution_count": 0,
      "outputs": [
        {
          "output_type": "stream",
          "text": [
            "Linear(in_features=4096, out_features=1000, bias=True)\n"
          ],
          "name": "stdout"
        }
      ]
    },
    {
      "cell_type": "code",
      "metadata": {
        "id": "xf4LH_CYtIBo",
        "colab_type": "code",
        "outputId": "7a4b70a5-e870-4c88-c587-5e9aadff7284",
        "colab": {
          "base_uri": "https://localhost:8080/",
          "height": 54
        }
      },
      "source": [
        "final_in_features = VGG.classifier[6].in_features\n",
        "mod_classifier = list(VGG.classifier.children())[:-1]\n",
        "mod_classifier.extend([nn.Linear(final_in_features, num_classes)])\n",
        "print(mod_classifier)"
      ],
      "execution_count": 0,
      "outputs": [
        {
          "output_type": "stream",
          "text": [
            "[Linear(in_features=25088, out_features=4096, bias=True), ReLU(inplace=True), Dropout(p=0.5, inplace=False), Linear(in_features=4096, out_features=4096, bias=True), ReLU(inplace=True), Dropout(p=0.5, inplace=False), Linear(in_features=4096, out_features=10, bias=True)]\n"
          ],
          "name": "stdout"
        }
      ]
    },
    {
      "cell_type": "code",
      "metadata": {
        "id": "iLBoI3X4uQDK",
        "colab_type": "code",
        "outputId": "f5c3a98b-117a-4e5f-8183-6f35d26714ba",
        "colab": {
          "base_uri": "https://localhost:8080/",
          "height": 991
        }
      },
      "source": [
        "VGG.classifier = nn.Sequential(*mod_classifier)\n",
        "print(VGG)"
      ],
      "execution_count": 0,
      "outputs": [
        {
          "output_type": "stream",
          "text": [
            "VGG(\n",
            "  (features): Sequential(\n",
            "    (0): Conv2d(3, 64, kernel_size=(3, 3), stride=(1, 1), padding=(1, 1))\n",
            "    (1): BatchNorm2d(64, eps=1e-05, momentum=0.1, affine=True, track_running_stats=True)\n",
            "    (2): ReLU(inplace=True)\n",
            "    (3): Conv2d(64, 64, kernel_size=(3, 3), stride=(1, 1), padding=(1, 1))\n",
            "    (4): BatchNorm2d(64, eps=1e-05, momentum=0.1, affine=True, track_running_stats=True)\n",
            "    (5): ReLU(inplace=True)\n",
            "    (6): MaxPool2d(kernel_size=2, stride=2, padding=0, dilation=1, ceil_mode=False)\n",
            "    (7): Conv2d(64, 128, kernel_size=(3, 3), stride=(1, 1), padding=(1, 1))\n",
            "    (8): BatchNorm2d(128, eps=1e-05, momentum=0.1, affine=True, track_running_stats=True)\n",
            "    (9): ReLU(inplace=True)\n",
            "    (10): Conv2d(128, 128, kernel_size=(3, 3), stride=(1, 1), padding=(1, 1))\n",
            "    (11): BatchNorm2d(128, eps=1e-05, momentum=0.1, affine=True, track_running_stats=True)\n",
            "    (12): ReLU(inplace=True)\n",
            "    (13): MaxPool2d(kernel_size=2, stride=2, padding=0, dilation=1, ceil_mode=False)\n",
            "    (14): Conv2d(128, 256, kernel_size=(3, 3), stride=(1, 1), padding=(1, 1))\n",
            "    (15): BatchNorm2d(256, eps=1e-05, momentum=0.1, affine=True, track_running_stats=True)\n",
            "    (16): ReLU(inplace=True)\n",
            "    (17): Conv2d(256, 256, kernel_size=(3, 3), stride=(1, 1), padding=(1, 1))\n",
            "    (18): BatchNorm2d(256, eps=1e-05, momentum=0.1, affine=True, track_running_stats=True)\n",
            "    (19): ReLU(inplace=True)\n",
            "    (20): Conv2d(256, 256, kernel_size=(3, 3), stride=(1, 1), padding=(1, 1))\n",
            "    (21): BatchNorm2d(256, eps=1e-05, momentum=0.1, affine=True, track_running_stats=True)\n",
            "    (22): ReLU(inplace=True)\n",
            "    (23): MaxPool2d(kernel_size=2, stride=2, padding=0, dilation=1, ceil_mode=False)\n",
            "    (24): Conv2d(256, 512, kernel_size=(3, 3), stride=(1, 1), padding=(1, 1))\n",
            "    (25): BatchNorm2d(512, eps=1e-05, momentum=0.1, affine=True, track_running_stats=True)\n",
            "    (26): ReLU(inplace=True)\n",
            "    (27): Conv2d(512, 512, kernel_size=(3, 3), stride=(1, 1), padding=(1, 1))\n",
            "    (28): BatchNorm2d(512, eps=1e-05, momentum=0.1, affine=True, track_running_stats=True)\n",
            "    (29): ReLU(inplace=True)\n",
            "    (30): Conv2d(512, 512, kernel_size=(3, 3), stride=(1, 1), padding=(1, 1))\n",
            "    (31): BatchNorm2d(512, eps=1e-05, momentum=0.1, affine=True, track_running_stats=True)\n",
            "    (32): ReLU(inplace=True)\n",
            "    (33): MaxPool2d(kernel_size=2, stride=2, padding=0, dilation=1, ceil_mode=False)\n",
            "    (34): Conv2d(512, 512, kernel_size=(3, 3), stride=(1, 1), padding=(1, 1))\n",
            "    (35): BatchNorm2d(512, eps=1e-05, momentum=0.1, affine=True, track_running_stats=True)\n",
            "    (36): ReLU(inplace=True)\n",
            "    (37): Conv2d(512, 512, kernel_size=(3, 3), stride=(1, 1), padding=(1, 1))\n",
            "    (38): BatchNorm2d(512, eps=1e-05, momentum=0.1, affine=True, track_running_stats=True)\n",
            "    (39): ReLU(inplace=True)\n",
            "    (40): Conv2d(512, 512, kernel_size=(3, 3), stride=(1, 1), padding=(1, 1))\n",
            "    (41): BatchNorm2d(512, eps=1e-05, momentum=0.1, affine=True, track_running_stats=True)\n",
            "    (42): ReLU(inplace=True)\n",
            "    (43): MaxPool2d(kernel_size=2, stride=2, padding=0, dilation=1, ceil_mode=False)\n",
            "  )\n",
            "  (avgpool): AdaptiveAvgPool2d(output_size=(7, 7))\n",
            "  (classifier): Sequential(\n",
            "    (0): Linear(in_features=25088, out_features=4096, bias=True)\n",
            "    (1): ReLU(inplace=True)\n",
            "    (2): Dropout(p=0.5, inplace=False)\n",
            "    (3): Linear(in_features=4096, out_features=4096, bias=True)\n",
            "    (4): ReLU(inplace=True)\n",
            "    (5): Dropout(p=0.5, inplace=False)\n",
            "    (6): Linear(in_features=4096, out_features=10, bias=True)\n",
            "  )\n",
            ")\n"
          ],
          "name": "stdout"
        }
      ]
    },
    {
      "cell_type": "markdown",
      "metadata": {
        "id": "Z2pfYX10u3wv",
        "colab_type": "text"
      },
      "source": [
        "# TRAIN MODEL OVER CIFAR10 DATASET"
      ]
    },
    {
      "cell_type": "code",
      "metadata": {
        "id": "rrLXQuNquniM",
        "colab_type": "code",
        "colab": {}
      },
      "source": [
        "batch_size = 16\n",
        "\n",
        "trainloader = torch.utils.data.DataLoader(trainset, batch_size = batch_size, shuffle = True)\n",
        "testloader = torch.utils.data.DataLoader(testset, batch_size = batch_size, shuffle = False)"
      ],
      "execution_count": 0,
      "outputs": []
    },
    {
      "cell_type": "code",
      "metadata": {
        "id": "Ipu2kVIMvP7v",
        "colab_type": "code",
        "colab": {}
      },
      "source": [
        "def evaluation(dataloader, model):\n",
        "  total, correct = 0,0\n",
        "  for data in dataloader:\n",
        "    inputs ,labels = data\n",
        "    inputs ,labels = inputs.to(device), labels.to(device)\n",
        "    outputs = model(inputs)\n",
        "    _,pred = torch.max(outputs.data, 1)\n",
        "    total += labels.size(0)\n",
        "    correct += (pred == labels).sum().item()\n",
        "  return 100 * correct / total "
      ],
      "execution_count": 0,
      "outputs": []
    },
    {
      "cell_type": "code",
      "metadata": {
        "id": "w96lqlPYxLaL",
        "colab_type": "code",
        "colab": {}
      },
      "source": [
        "VGG = VGG.to(device)\n",
        "loss_fn = nn.CrossEntropyLoss()\n",
        "opt = optim.SGD(VGG.parameters(), lr = 0.05)"
      ],
      "execution_count": 0,
      "outputs": []
    },
    {
      "cell_type": "markdown",
      "metadata": {
        "id": "xj--0aoSB5Qn",
        "colab_type": "text"
      },
      "source": [
        "# NON PRETRAINED MODEL"
      ]
    },
    {
      "cell_type": "code",
      "metadata": {
        "id": "dUE3K3IUxb29",
        "colab_type": "code",
        "outputId": "427a4121-0169-4182-afc7-47de99ac5593",
        "colab": {
          "base_uri": "https://localhost:8080/",
          "height": 790
        }
      },
      "source": [
        "loss_epoch_arr = []\n",
        "max_epochs = 1\n",
        "\n",
        "min_loss = 1000\n",
        "\n",
        "n_iters = np.ceil(50000/batch_size)\n",
        "\n",
        "for epoch in range(max_epochs):\n",
        "\n",
        "  for i, data in enumerate(trainloader, 0):\n",
        "    inputs , labels = data\n",
        "    inputs , labels = inputs.to(device),labels.to(device)\n",
        "\n",
        "    opt.zero_grad()\n",
        "\n",
        "    outputs = VGG(inputs)\n",
        "    loss = loss_fn(outputs, labels)\n",
        "    loss.backward()\n",
        "    opt.step()\n",
        "\n",
        "    if min_loss > loss.item():\n",
        "      min_loss = loss.item()\n",
        "      best_model = copy.deepcopy(VGG.state_dict())\n",
        "      print(f\"MINIMUM LOSS :: {min_loss}\")\n",
        "\n",
        "    if i%100 == 0:\n",
        "      print(f\"ITERATION {i}/{n_iters}, LOSS :: {loss.item()}\")\n",
        "\n",
        "    del inputs, labels , outputs\n",
        "    torch.cuda.empty_cache()\n",
        "\n",
        "  loss_epoch_arr.append(loss.item())\n",
        "\n",
        "    \n",
        "\n"
      ],
      "execution_count": 0,
      "outputs": [
        {
          "output_type": "stream",
          "text": [
            "MINIMUM LOSS :: 2.522862672805786\n",
            "ITERATION 0/3125.0, LOSS :: 2.522862672805786\n",
            "MINIMUM LOSS :: 2.404052495956421\n",
            "MINIMUM LOSS :: 2.3795340061187744\n",
            "MINIMUM LOSS :: 2.352278470993042\n",
            "MINIMUM LOSS :: 2.1810684204101562\n",
            "MINIMUM LOSS :: 2.0353732109069824\n",
            "ITERATION 100/3125.0, LOSS :: 2.3221323490142822\n",
            "MINIMUM LOSS :: 1.9735732078552246\n",
            "ITERATION 200/3125.0, LOSS :: 2.520270824432373\n",
            "ITERATION 300/3125.0, LOSS :: 2.415576934814453\n",
            "ITERATION 400/3125.0, LOSS :: 2.3632354736328125\n",
            "ITERATION 500/3125.0, LOSS :: 2.3688836097717285\n",
            "ITERATION 600/3125.0, LOSS :: 2.241011381149292\n",
            "ITERATION 700/3125.0, LOSS :: 2.334998846054077\n",
            "ITERATION 800/3125.0, LOSS :: 2.119016170501709\n",
            "MINIMUM LOSS :: 1.9350453615188599\n",
            "ITERATION 900/3125.0, LOSS :: 2.378059148788452\n",
            "ITERATION 1000/3125.0, LOSS :: 2.1844029426574707\n",
            "ITERATION 1100/3125.0, LOSS :: 2.102489709854126\n",
            "ITERATION 1200/3125.0, LOSS :: 2.2375402450561523\n",
            "MINIMUM LOSS :: 1.8857274055480957\n",
            "ITERATION 1300/3125.0, LOSS :: 2.1513874530792236\n",
            "ITERATION 1400/3125.0, LOSS :: 2.5045342445373535\n",
            "MINIMUM LOSS :: 1.7994577884674072\n",
            "ITERATION 1500/3125.0, LOSS :: 2.330962896347046\n",
            "ITERATION 1600/3125.0, LOSS :: 2.2841265201568604\n",
            "ITERATION 1700/3125.0, LOSS :: 2.3627381324768066\n",
            "MINIMUM LOSS :: 1.6956688165664673\n",
            "ITERATION 1800/3125.0, LOSS :: 1.9242913722991943\n",
            "ITERATION 1900/3125.0, LOSS :: 2.0287654399871826\n",
            "MINIMUM LOSS :: 1.672406792640686\n",
            "ITERATION 2000/3125.0, LOSS :: 1.7965203523635864\n",
            "ITERATION 2100/3125.0, LOSS :: 2.0588889122009277\n",
            "ITERATION 2200/3125.0, LOSS :: 2.0068564414978027\n",
            "ITERATION 2300/3125.0, LOSS :: 2.145613431930542\n",
            "ITERATION 2400/3125.0, LOSS :: 2.2030129432678223\n",
            "ITERATION 2500/3125.0, LOSS :: 2.3589329719543457\n",
            "ITERATION 2600/3125.0, LOSS :: 2.3285439014434814\n",
            "ITERATION 2700/3125.0, LOSS :: 1.9910008907318115\n",
            "MINIMUM LOSS :: 1.6514800786972046\n",
            "MINIMUM LOSS :: 1.5738272666931152\n",
            "ITERATION 2800/3125.0, LOSS :: 1.9591848850250244\n",
            "ITERATION 2900/3125.0, LOSS :: 1.9878909587860107\n",
            "ITERATION 3000/3125.0, LOSS :: 2.200676441192627\n",
            "ITERATION 3100/3125.0, LOSS :: 2.197221517562866\n"
          ],
          "name": "stdout"
        }
      ]
    },
    {
      "cell_type": "code",
      "metadata": {
        "id": "JmgnG5XBBD0H",
        "colab_type": "code",
        "outputId": "e2d61111-8136-40a0-dd91-4ab89d19c034",
        "colab": {
          "base_uri": "https://localhost:8080/",
          "height": 34
        }
      },
      "source": [
        "VGG.load_state_dict(best_model)\n",
        "print(evaluation(trainloader, VGG), evaluation(testloader, VGG))"
      ],
      "execution_count": 0,
      "outputs": [
        {
          "output_type": "stream",
          "text": [
            "22.96 23.11\n"
          ],
          "name": "stdout"
        }
      ]
    },
    {
      "cell_type": "markdown",
      "metadata": {
        "id": "NxIvzRtn_wG6",
        "colab_type": "text"
      },
      "source": [
        "# PRETRAINED CONVOLUTION LAYER MODEL "
      ]
    },
    {
      "cell_type": "code",
      "metadata": {
        "id": "-4WWtpfk-G7O",
        "colab_type": "code",
        "colab": {}
      },
      "source": [
        "batch_size = 16\n",
        "\n",
        "trainloader = torch.utils.data.DataLoader(trainset, batch_size = batch_size, shuffle = True)\n",
        "testloader = torch.utils.data.DataLoader(testset, batch_size = batch_size, shuffle = False)"
      ],
      "execution_count": 0,
      "outputs": []
    },
    {
      "cell_type": "code",
      "metadata": {
        "id": "DtXa_l-UCeRW",
        "colab_type": "code",
        "colab": {}
      },
      "source": [
        "VGG = models.vgg16_bn(pretrained = True)"
      ],
      "execution_count": 0,
      "outputs": []
    },
    {
      "cell_type": "code",
      "metadata": {
        "id": "YgOLWxCZDudI",
        "colab_type": "code",
        "colab": {}
      },
      "source": [
        "for param in VGG.parameters():\n",
        "  param.requires_grad = False"
      ],
      "execution_count": 0,
      "outputs": []
    },
    {
      "cell_type": "code",
      "metadata": {
        "id": "sjgyjVSECsYh",
        "colab_type": "code",
        "colab": {}
      },
      "source": [
        "final_in_features = VGG.classifier[6].in_features\n",
        "VGG.classifier[6] = nn.Linear(final_in_features, num_classes)"
      ],
      "execution_count": 0,
      "outputs": []
    },
    {
      "cell_type": "code",
      "metadata": {
        "id": "qNtCT3ExDOxc",
        "colab_type": "code",
        "outputId": "fe00dd19-4474-4d55-8c9e-c5a93eb6bf98",
        "colab": {
          "base_uri": "https://localhost:8080/",
          "height": 991
        }
      },
      "source": [
        "print(VGG)"
      ],
      "execution_count": 0,
      "outputs": [
        {
          "output_type": "stream",
          "text": [
            "VGG(\n",
            "  (features): Sequential(\n",
            "    (0): Conv2d(3, 64, kernel_size=(3, 3), stride=(1, 1), padding=(1, 1))\n",
            "    (1): BatchNorm2d(64, eps=1e-05, momentum=0.1, affine=True, track_running_stats=True)\n",
            "    (2): ReLU(inplace=True)\n",
            "    (3): Conv2d(64, 64, kernel_size=(3, 3), stride=(1, 1), padding=(1, 1))\n",
            "    (4): BatchNorm2d(64, eps=1e-05, momentum=0.1, affine=True, track_running_stats=True)\n",
            "    (5): ReLU(inplace=True)\n",
            "    (6): MaxPool2d(kernel_size=2, stride=2, padding=0, dilation=1, ceil_mode=False)\n",
            "    (7): Conv2d(64, 128, kernel_size=(3, 3), stride=(1, 1), padding=(1, 1))\n",
            "    (8): BatchNorm2d(128, eps=1e-05, momentum=0.1, affine=True, track_running_stats=True)\n",
            "    (9): ReLU(inplace=True)\n",
            "    (10): Conv2d(128, 128, kernel_size=(3, 3), stride=(1, 1), padding=(1, 1))\n",
            "    (11): BatchNorm2d(128, eps=1e-05, momentum=0.1, affine=True, track_running_stats=True)\n",
            "    (12): ReLU(inplace=True)\n",
            "    (13): MaxPool2d(kernel_size=2, stride=2, padding=0, dilation=1, ceil_mode=False)\n",
            "    (14): Conv2d(128, 256, kernel_size=(3, 3), stride=(1, 1), padding=(1, 1))\n",
            "    (15): BatchNorm2d(256, eps=1e-05, momentum=0.1, affine=True, track_running_stats=True)\n",
            "    (16): ReLU(inplace=True)\n",
            "    (17): Conv2d(256, 256, kernel_size=(3, 3), stride=(1, 1), padding=(1, 1))\n",
            "    (18): BatchNorm2d(256, eps=1e-05, momentum=0.1, affine=True, track_running_stats=True)\n",
            "    (19): ReLU(inplace=True)\n",
            "    (20): Conv2d(256, 256, kernel_size=(3, 3), stride=(1, 1), padding=(1, 1))\n",
            "    (21): BatchNorm2d(256, eps=1e-05, momentum=0.1, affine=True, track_running_stats=True)\n",
            "    (22): ReLU(inplace=True)\n",
            "    (23): MaxPool2d(kernel_size=2, stride=2, padding=0, dilation=1, ceil_mode=False)\n",
            "    (24): Conv2d(256, 512, kernel_size=(3, 3), stride=(1, 1), padding=(1, 1))\n",
            "    (25): BatchNorm2d(512, eps=1e-05, momentum=0.1, affine=True, track_running_stats=True)\n",
            "    (26): ReLU(inplace=True)\n",
            "    (27): Conv2d(512, 512, kernel_size=(3, 3), stride=(1, 1), padding=(1, 1))\n",
            "    (28): BatchNorm2d(512, eps=1e-05, momentum=0.1, affine=True, track_running_stats=True)\n",
            "    (29): ReLU(inplace=True)\n",
            "    (30): Conv2d(512, 512, kernel_size=(3, 3), stride=(1, 1), padding=(1, 1))\n",
            "    (31): BatchNorm2d(512, eps=1e-05, momentum=0.1, affine=True, track_running_stats=True)\n",
            "    (32): ReLU(inplace=True)\n",
            "    (33): MaxPool2d(kernel_size=2, stride=2, padding=0, dilation=1, ceil_mode=False)\n",
            "    (34): Conv2d(512, 512, kernel_size=(3, 3), stride=(1, 1), padding=(1, 1))\n",
            "    (35): BatchNorm2d(512, eps=1e-05, momentum=0.1, affine=True, track_running_stats=True)\n",
            "    (36): ReLU(inplace=True)\n",
            "    (37): Conv2d(512, 512, kernel_size=(3, 3), stride=(1, 1), padding=(1, 1))\n",
            "    (38): BatchNorm2d(512, eps=1e-05, momentum=0.1, affine=True, track_running_stats=True)\n",
            "    (39): ReLU(inplace=True)\n",
            "    (40): Conv2d(512, 512, kernel_size=(3, 3), stride=(1, 1), padding=(1, 1))\n",
            "    (41): BatchNorm2d(512, eps=1e-05, momentum=0.1, affine=True, track_running_stats=True)\n",
            "    (42): ReLU(inplace=True)\n",
            "    (43): MaxPool2d(kernel_size=2, stride=2, padding=0, dilation=1, ceil_mode=False)\n",
            "  )\n",
            "  (avgpool): AdaptiveAvgPool2d(output_size=(7, 7))\n",
            "  (classifier): Sequential(\n",
            "    (0): Linear(in_features=25088, out_features=4096, bias=True)\n",
            "    (1): ReLU(inplace=True)\n",
            "    (2): Dropout(p=0.5, inplace=False)\n",
            "    (3): Linear(in_features=4096, out_features=4096, bias=True)\n",
            "    (4): ReLU(inplace=True)\n",
            "    (5): Dropout(p=0.5, inplace=False)\n",
            "    (6): Linear(in_features=4096, out_features=10, bias=True)\n",
            "  )\n",
            ")\n"
          ],
          "name": "stdout"
        }
      ]
    },
    {
      "cell_type": "code",
      "metadata": {
        "id": "yNxcu88eDlAW",
        "colab_type": "code",
        "outputId": "1bcf5a7b-5790-4e5f-fe56-bc8a23d6e889",
        "colab": {
          "base_uri": "https://localhost:8080/",
          "height": 50
        }
      },
      "source": [
        "for param in VGG.parameters():\n",
        "  if param.requires_grad:\n",
        "    print(param.shape)"
      ],
      "execution_count": 0,
      "outputs": [
        {
          "output_type": "stream",
          "text": [
            "torch.Size([10, 4096])\n",
            "torch.Size([10])\n"
          ],
          "name": "stdout"
        }
      ]
    },
    {
      "cell_type": "code",
      "metadata": {
        "id": "qtOe3ibKE8ev",
        "colab_type": "code",
        "colab": {}
      },
      "source": [
        "VGG = VGG.to(device)\n",
        "loss_fn = nn.CrossEntropyLoss()\n",
        "opt = optim.SGD(VGG.parameters(), lr = 0.05)"
      ],
      "execution_count": 0,
      "outputs": []
    },
    {
      "cell_type": "code",
      "metadata": {
        "id": "M1T51rFPFE9c",
        "colab_type": "code",
        "outputId": "eba38139-3d60-4c2c-ccd8-8ce52a780912",
        "colab": {
          "base_uri": "https://localhost:8080/",
          "height": 790
        }
      },
      "source": [
        "loss_epoch_arr = []\n",
        "max_epochs = 1\n",
        "\n",
        "min_loss = 1000\n",
        "\n",
        "n_iters = np.ceil(50000/batch_size)\n",
        "\n",
        "for epoch in range(max_epochs):\n",
        "\n",
        "  for i, data in enumerate(trainloader, 0):\n",
        "    inputs , labels = data\n",
        "    inputs , labels = inputs.to(device),labels.to(device)\n",
        "\n",
        "    opt.zero_grad()\n",
        "\n",
        "    outputs = VGG(inputs)\n",
        "    loss = loss_fn(outputs, labels)\n",
        "    loss.backward()\n",
        "    opt.step()\n",
        "\n",
        "    if min_loss > loss.item():\n",
        "      min_loss = loss.item()\n",
        "      best_model = copy.deepcopy(VGG.state_dict())\n",
        "      print(f\"MINIMUM LOSS :: {min_loss}\")\n",
        "\n",
        "    if i%100 == 0:\n",
        "      print(f\"ITERATION {i}/{n_iters}, LOSS :: {loss.item()}\")\n",
        "\n",
        "    del inputs, labels , outputs\n",
        "    torch.cuda.empty_cache()\n",
        "\n",
        "  loss_epoch_arr.append(loss.item())"
      ],
      "execution_count": 0,
      "outputs": [
        {
          "output_type": "stream",
          "text": [
            "MINIMUM LOSS :: 2.258019208908081\n",
            "ITERATION 0/3125.0, LOSS :: 2.258019208908081\n",
            "MINIMUM LOSS :: 2.2178025245666504\n",
            "MINIMUM LOSS :: 1.8491394519805908\n",
            "MINIMUM LOSS :: 1.7778944969177246\n",
            "MINIMUM LOSS :: 1.773681402206421\n",
            "MINIMUM LOSS :: 1.7152243852615356\n",
            "MINIMUM LOSS :: 1.3758102655410767\n",
            "MINIMUM LOSS :: 1.2314752340316772\n",
            "MINIMUM LOSS :: 0.9229108095169067\n",
            "ITERATION 100/3125.0, LOSS :: 1.9326353073120117\n",
            "ITERATION 200/3125.0, LOSS :: 1.7605043649673462\n",
            "MINIMUM LOSS :: 0.7980120182037354\n",
            "ITERATION 300/3125.0, LOSS :: 1.985589623451233\n",
            "ITERATION 400/3125.0, LOSS :: 2.4858593940734863\n",
            "ITERATION 500/3125.0, LOSS :: 2.0364863872528076\n",
            "ITERATION 600/3125.0, LOSS :: 1.5056664943695068\n",
            "ITERATION 700/3125.0, LOSS :: 2.1386260986328125\n",
            "MINIMUM LOSS :: 0.6920402646064758\n",
            "ITERATION 800/3125.0, LOSS :: 1.7211633920669556\n",
            "ITERATION 900/3125.0, LOSS :: 1.415221095085144\n",
            "ITERATION 1000/3125.0, LOSS :: 1.9820106029510498\n",
            "MINIMUM LOSS :: 0.6763720512390137\n",
            "ITERATION 1100/3125.0, LOSS :: 1.9504084587097168\n",
            "ITERATION 1200/3125.0, LOSS :: 0.9285870790481567\n",
            "ITERATION 1300/3125.0, LOSS :: 1.9156665802001953\n",
            "ITERATION 1400/3125.0, LOSS :: 2.0589895248413086\n",
            "ITERATION 1500/3125.0, LOSS :: 1.5460829734802246\n",
            "ITERATION 1600/3125.0, LOSS :: 0.9353296160697937\n",
            "ITERATION 1700/3125.0, LOSS :: 1.5640652179718018\n",
            "ITERATION 1800/3125.0, LOSS :: 1.5275731086730957\n",
            "ITERATION 1900/3125.0, LOSS :: 2.1339216232299805\n",
            "ITERATION 2000/3125.0, LOSS :: 2.818864345550537\n",
            "MINIMUM LOSS :: 0.5924859642982483\n",
            "ITERATION 2100/3125.0, LOSS :: 3.3618857860565186\n",
            "ITERATION 2200/3125.0, LOSS :: 2.5503365993499756\n",
            "ITERATION 2300/3125.0, LOSS :: 1.721016764640808\n",
            "ITERATION 2400/3125.0, LOSS :: 2.7194972038269043\n",
            "ITERATION 2500/3125.0, LOSS :: 2.1068313121795654\n",
            "ITERATION 2600/3125.0, LOSS :: 1.66511869430542\n",
            "MINIMUM LOSS :: 0.3602622151374817\n",
            "ITERATION 2700/3125.0, LOSS :: 1.8435049057006836\n",
            "ITERATION 2800/3125.0, LOSS :: 1.8637559413909912\n",
            "ITERATION 2900/3125.0, LOSS :: 1.6542739868164062\n",
            "ITERATION 3000/3125.0, LOSS :: 1.6605185270309448\n",
            "ITERATION 3100/3125.0, LOSS :: 1.9020411968231201\n"
          ],
          "name": "stdout"
        }
      ]
    },
    {
      "cell_type": "code",
      "metadata": {
        "id": "xZ92TTYeFO1s",
        "colab_type": "code",
        "outputId": "fba312b1-b23c-4b66-9beb-89f4f4367582",
        "colab": {
          "base_uri": "https://localhost:8080/",
          "height": 34
        }
      },
      "source": [
        "VGG.load_state_dict(best_model)\n",
        "print(evaluation(trainloader, VGG), evaluation(testloader, VGG))"
      ],
      "execution_count": 0,
      "outputs": [
        {
          "output_type": "stream",
          "text": [
            "43.946 43.57\n"
          ],
          "name": "stdout"
        }
      ]
    },
    {
      "cell_type": "markdown",
      "metadata": {
        "id": "U4GHnKsbNJ0j",
        "colab_type": "text"
      },
      "source": [
        "# RESNET - 18 MODEL "
      ]
    },
    {
      "cell_type": "code",
      "metadata": {
        "id": "q9ABT73hKJpv",
        "colab_type": "code",
        "outputId": "4c17483d-57ee-4967-96a6-2e388eafac3c",
        "colab": {
          "base_uri": "https://localhost:8080/",
          "height": 82,
          "referenced_widgets": [
            "0a6b58b6f47e4ce58454de2f0285af3e",
            "7efc6d44e5ba44bbb3290905b43ac5cb",
            "b4fb194a9aca4368a996d5c5427c67c6",
            "87b916b4dd964c45857b2b2990b45784",
            "bcaf59e9c93749a5873a8150c7a6add5",
            "d272da1cb10f44e8a1cdf39922af5d3f",
            "a3020225c45c48c1a364a430fd395388",
            "dda1e0b2e6b149089a181aaca148b8a4"
          ]
        }
      },
      "source": [
        "RESNET = models.resnet18(pretrained = True)"
      ],
      "execution_count": 0,
      "outputs": [
        {
          "output_type": "stream",
          "text": [
            "Downloading: \"https://download.pytorch.org/models/resnet18-5c106cde.pth\" to /root/.cache/torch/checkpoints/resnet18-5c106cde.pth\n"
          ],
          "name": "stderr"
        },
        {
          "output_type": "display_data",
          "data": {
            "application/vnd.jupyter.widget-view+json": {
              "model_id": "0a6b58b6f47e4ce58454de2f0285af3e",
              "version_minor": 0,
              "version_major": 2
            },
            "text/plain": [
              "HBox(children=(IntProgress(value=0, max=46827520), HTML(value='')))"
            ]
          },
          "metadata": {
            "tags": []
          }
        },
        {
          "output_type": "stream",
          "text": [
            "\n"
          ],
          "name": "stdout"
        }
      ]
    },
    {
      "cell_type": "code",
      "metadata": {
        "id": "vfAODhH5Mvr1",
        "colab_type": "code",
        "outputId": "fdda942e-ae01-4b3d-e1e0-7479d642afb6",
        "colab": {
          "base_uri": "https://localhost:8080/",
          "height": 1000
        }
      },
      "source": [
        "print(RESNET)"
      ],
      "execution_count": 0,
      "outputs": [
        {
          "output_type": "stream",
          "text": [
            "ResNet(\n",
            "  (conv1): Conv2d(3, 64, kernel_size=(7, 7), stride=(2, 2), padding=(3, 3), bias=False)\n",
            "  (bn1): BatchNorm2d(64, eps=1e-05, momentum=0.1, affine=True, track_running_stats=True)\n",
            "  (relu): ReLU(inplace=True)\n",
            "  (maxpool): MaxPool2d(kernel_size=3, stride=2, padding=1, dilation=1, ceil_mode=False)\n",
            "  (layer1): Sequential(\n",
            "    (0): BasicBlock(\n",
            "      (conv1): Conv2d(64, 64, kernel_size=(3, 3), stride=(1, 1), padding=(1, 1), bias=False)\n",
            "      (bn1): BatchNorm2d(64, eps=1e-05, momentum=0.1, affine=True, track_running_stats=True)\n",
            "      (relu): ReLU(inplace=True)\n",
            "      (conv2): Conv2d(64, 64, kernel_size=(3, 3), stride=(1, 1), padding=(1, 1), bias=False)\n",
            "      (bn2): BatchNorm2d(64, eps=1e-05, momentum=0.1, affine=True, track_running_stats=True)\n",
            "    )\n",
            "    (1): BasicBlock(\n",
            "      (conv1): Conv2d(64, 64, kernel_size=(3, 3), stride=(1, 1), padding=(1, 1), bias=False)\n",
            "      (bn1): BatchNorm2d(64, eps=1e-05, momentum=0.1, affine=True, track_running_stats=True)\n",
            "      (relu): ReLU(inplace=True)\n",
            "      (conv2): Conv2d(64, 64, kernel_size=(3, 3), stride=(1, 1), padding=(1, 1), bias=False)\n",
            "      (bn2): BatchNorm2d(64, eps=1e-05, momentum=0.1, affine=True, track_running_stats=True)\n",
            "    )\n",
            "  )\n",
            "  (layer2): Sequential(\n",
            "    (0): BasicBlock(\n",
            "      (conv1): Conv2d(64, 128, kernel_size=(3, 3), stride=(2, 2), padding=(1, 1), bias=False)\n",
            "      (bn1): BatchNorm2d(128, eps=1e-05, momentum=0.1, affine=True, track_running_stats=True)\n",
            "      (relu): ReLU(inplace=True)\n",
            "      (conv2): Conv2d(128, 128, kernel_size=(3, 3), stride=(1, 1), padding=(1, 1), bias=False)\n",
            "      (bn2): BatchNorm2d(128, eps=1e-05, momentum=0.1, affine=True, track_running_stats=True)\n",
            "      (downsample): Sequential(\n",
            "        (0): Conv2d(64, 128, kernel_size=(1, 1), stride=(2, 2), bias=False)\n",
            "        (1): BatchNorm2d(128, eps=1e-05, momentum=0.1, affine=True, track_running_stats=True)\n",
            "      )\n",
            "    )\n",
            "    (1): BasicBlock(\n",
            "      (conv1): Conv2d(128, 128, kernel_size=(3, 3), stride=(1, 1), padding=(1, 1), bias=False)\n",
            "      (bn1): BatchNorm2d(128, eps=1e-05, momentum=0.1, affine=True, track_running_stats=True)\n",
            "      (relu): ReLU(inplace=True)\n",
            "      (conv2): Conv2d(128, 128, kernel_size=(3, 3), stride=(1, 1), padding=(1, 1), bias=False)\n",
            "      (bn2): BatchNorm2d(128, eps=1e-05, momentum=0.1, affine=True, track_running_stats=True)\n",
            "    )\n",
            "  )\n",
            "  (layer3): Sequential(\n",
            "    (0): BasicBlock(\n",
            "      (conv1): Conv2d(128, 256, kernel_size=(3, 3), stride=(2, 2), padding=(1, 1), bias=False)\n",
            "      (bn1): BatchNorm2d(256, eps=1e-05, momentum=0.1, affine=True, track_running_stats=True)\n",
            "      (relu): ReLU(inplace=True)\n",
            "      (conv2): Conv2d(256, 256, kernel_size=(3, 3), stride=(1, 1), padding=(1, 1), bias=False)\n",
            "      (bn2): BatchNorm2d(256, eps=1e-05, momentum=0.1, affine=True, track_running_stats=True)\n",
            "      (downsample): Sequential(\n",
            "        (0): Conv2d(128, 256, kernel_size=(1, 1), stride=(2, 2), bias=False)\n",
            "        (1): BatchNorm2d(256, eps=1e-05, momentum=0.1, affine=True, track_running_stats=True)\n",
            "      )\n",
            "    )\n",
            "    (1): BasicBlock(\n",
            "      (conv1): Conv2d(256, 256, kernel_size=(3, 3), stride=(1, 1), padding=(1, 1), bias=False)\n",
            "      (bn1): BatchNorm2d(256, eps=1e-05, momentum=0.1, affine=True, track_running_stats=True)\n",
            "      (relu): ReLU(inplace=True)\n",
            "      (conv2): Conv2d(256, 256, kernel_size=(3, 3), stride=(1, 1), padding=(1, 1), bias=False)\n",
            "      (bn2): BatchNorm2d(256, eps=1e-05, momentum=0.1, affine=True, track_running_stats=True)\n",
            "    )\n",
            "  )\n",
            "  (layer4): Sequential(\n",
            "    (0): BasicBlock(\n",
            "      (conv1): Conv2d(256, 512, kernel_size=(3, 3), stride=(2, 2), padding=(1, 1), bias=False)\n",
            "      (bn1): BatchNorm2d(512, eps=1e-05, momentum=0.1, affine=True, track_running_stats=True)\n",
            "      (relu): ReLU(inplace=True)\n",
            "      (conv2): Conv2d(512, 512, kernel_size=(3, 3), stride=(1, 1), padding=(1, 1), bias=False)\n",
            "      (bn2): BatchNorm2d(512, eps=1e-05, momentum=0.1, affine=True, track_running_stats=True)\n",
            "      (downsample): Sequential(\n",
            "        (0): Conv2d(256, 512, kernel_size=(1, 1), stride=(2, 2), bias=False)\n",
            "        (1): BatchNorm2d(512, eps=1e-05, momentum=0.1, affine=True, track_running_stats=True)\n",
            "      )\n",
            "    )\n",
            "    (1): BasicBlock(\n",
            "      (conv1): Conv2d(512, 512, kernel_size=(3, 3), stride=(1, 1), padding=(1, 1), bias=False)\n",
            "      (bn1): BatchNorm2d(512, eps=1e-05, momentum=0.1, affine=True, track_running_stats=True)\n",
            "      (relu): ReLU(inplace=True)\n",
            "      (conv2): Conv2d(512, 512, kernel_size=(3, 3), stride=(1, 1), padding=(1, 1), bias=False)\n",
            "      (bn2): BatchNorm2d(512, eps=1e-05, momentum=0.1, affine=True, track_running_stats=True)\n",
            "    )\n",
            "  )\n",
            "  (avgpool): AdaptiveAvgPool2d(output_size=(1, 1))\n",
            "  (fc): Linear(in_features=512, out_features=1000, bias=True)\n",
            ")\n"
          ],
          "name": "stdout"
        }
      ]
    },
    {
      "cell_type": "code",
      "metadata": {
        "id": "924fL1lqMy1y",
        "colab_type": "code",
        "colab": {}
      },
      "source": [
        "for param in RESNET.parameters():\n",
        "  param.requires_grad = False \n"
      ],
      "execution_count": 0,
      "outputs": []
    },
    {
      "cell_type": "code",
      "metadata": {
        "id": "BaAuhx7cNj57",
        "colab_type": "code",
        "colab": {}
      },
      "source": [
        "in_features = RESNET.fc.in_features\n",
        "RESNET.fc = nn.Linear(in_features, num_classes)"
      ],
      "execution_count": 0,
      "outputs": []
    },
    {
      "cell_type": "code",
      "metadata": {
        "id": "kyMDeAEKN2Jm",
        "colab_type": "code",
        "outputId": "fd46e707-2bb3-4760-a9c8-6b65a677c7da",
        "colab": {
          "base_uri": "https://localhost:8080/",
          "height": 50
        }
      },
      "source": [
        "for param in RESNET.parameters():\n",
        "  if param.requires_grad:\n",
        "    print(param.shape)"
      ],
      "execution_count": 0,
      "outputs": [
        {
          "output_type": "stream",
          "text": [
            "torch.Size([10, 512])\n",
            "torch.Size([10])\n"
          ],
          "name": "stdout"
        }
      ]
    },
    {
      "cell_type": "code",
      "metadata": {
        "id": "eIKH8Ms1OHOu",
        "colab_type": "code",
        "colab": {}
      },
      "source": [
        "RESNET = RESNET.to(device)\n",
        "loss_fn = nn.CrossEntropyLoss()\n",
        "opt = optim.SGD(RESNET.parameters(), lr = 0.05)"
      ],
      "execution_count": 0,
      "outputs": []
    },
    {
      "cell_type": "code",
      "metadata": {
        "id": "sq6xyzCMP7be",
        "colab_type": "code",
        "outputId": "e69db5e8-d1d9-44b0-d00b-d02490697c47",
        "colab": {
          "base_uri": "https://localhost:8080/",
          "height": 1000
        }
      },
      "source": [
        "loss_epoch_arr = []\n",
        "max_epochs = 4\n",
        "\n",
        "min_loss = 1000\n",
        "\n",
        "n_iters = np.ceil(50000/batch_size)\n",
        "\n",
        "for epoch in range(max_epochs):\n",
        "\n",
        "  for i, data in enumerate(trainloader, 0):\n",
        "    inputs , labels = data\n",
        "    inputs , labels = inputs.to(device),labels.to(device)\n",
        "    \n",
        "    opt.zero_grad()\n",
        "   \n",
        "\n",
        "    outputs =RESNET(inputs)\n",
        "    loss = loss_fn(outputs, labels)\n",
        "    loss.backward()\n",
        "\n",
        "\n",
        "    opt.step()\n",
        " \n",
        "\n",
        "    if min_loss > loss.item():\n",
        "      min_loss = loss.item()\n",
        "      best_model = copy.deepcopy(RESNET.state_dict())\n",
        "      print(f\"MINIMUM LOSS :: {min_loss}\")\n",
        "\n",
        "    if i%100 == 0:\n",
        "      print(f\"ITERATION {i}/{n_iters}, LOSS :: {loss.item()}\")\n",
        "\n",
        "    del inputs, labels , outputs\n",
        "    torch.cuda.empty_cache()\n",
        "  \n",
        "\n",
        "  loss_epoch_arr.append(loss.item())\n",
        "  print(f'EPOCH: {epoch}/4 , TEST ACC :: {evaluation(trainloader,RESNET)}, TRAIN ACC :: {evaluation(testloader, RESNET)}')\n",
        "\n",
        "  plt.plot(loss_epoch_arr)\n",
        "  plt.show()"
      ],
      "execution_count": 0,
      "outputs": [
        {
          "output_type": "stream",
          "text": [
            "MINIMUM LOSS :: 5.425957679748535\n",
            "ITERATION 0/3125.0, LOSS :: 5.425957679748535\n",
            "MINIMUM LOSS :: 4.25910758972168\n",
            "MINIMUM LOSS :: 3.2517056465148926\n",
            "MINIMUM LOSS :: 3.171635627746582\n",
            "MINIMUM LOSS :: 2.798400640487671\n",
            "MINIMUM LOSS :: 2.7357075214385986\n",
            "MINIMUM LOSS :: 2.628434896469116\n",
            "MINIMUM LOSS :: 2.2443904876708984\n",
            "MINIMUM LOSS :: 1.5950708389282227\n",
            "MINIMUM LOSS :: 1.5440877676010132\n",
            "ITERATION 100/3125.0, LOSS :: 6.134796142578125\n",
            "MINIMUM LOSS :: 1.3455588817596436\n",
            "MINIMUM LOSS :: 1.1077932119369507\n",
            "ITERATION 200/3125.0, LOSS :: 5.265435218811035\n",
            "ITERATION 300/3125.0, LOSS :: 3.2878711223602295\n",
            "ITERATION 400/3125.0, LOSS :: 5.934140205383301\n",
            "MINIMUM LOSS :: 0.9300275444984436\n",
            "MINIMUM LOSS :: 0.5796397924423218\n",
            "ITERATION 500/3125.0, LOSS :: 5.966495513916016\n",
            "ITERATION 600/3125.0, LOSS :: 3.469226360321045\n",
            "ITERATION 700/3125.0, LOSS :: 5.554595947265625\n",
            "ITERATION 800/3125.0, LOSS :: 4.392081260681152\n",
            "ITERATION 900/3125.0, LOSS :: 5.4586076736450195\n",
            "ITERATION 1000/3125.0, LOSS :: 6.490388870239258\n",
            "ITERATION 1100/3125.0, LOSS :: 4.4567999839782715\n",
            "ITERATION 1200/3125.0, LOSS :: 9.165245056152344\n",
            "ITERATION 1300/3125.0, LOSS :: 8.043526649475098\n",
            "ITERATION 1400/3125.0, LOSS :: 5.475872993469238\n",
            "ITERATION 1500/3125.0, LOSS :: 6.56955099105835\n",
            "ITERATION 1600/3125.0, LOSS :: 3.5269861221313477\n",
            "ITERATION 1700/3125.0, LOSS :: 6.390480995178223\n",
            "ITERATION 1800/3125.0, LOSS :: 5.2857208251953125\n",
            "ITERATION 1900/3125.0, LOSS :: 3.0882391929626465\n",
            "ITERATION 2000/3125.0, LOSS :: 7.041082382202148\n",
            "ITERATION 2100/3125.0, LOSS :: 4.388415336608887\n",
            "ITERATION 2200/3125.0, LOSS :: 3.804344654083252\n",
            "ITERATION 2300/3125.0, LOSS :: 4.328908920288086\n",
            "ITERATION 2400/3125.0, LOSS :: 2.2047195434570312\n",
            "ITERATION 2500/3125.0, LOSS :: 5.122902870178223\n",
            "ITERATION 2600/3125.0, LOSS :: 2.5788323879241943\n",
            "ITERATION 2700/3125.0, LOSS :: 8.53133773803711\n",
            "ITERATION 2800/3125.0, LOSS :: 2.400101661682129\n",
            "ITERATION 2900/3125.0, LOSS :: 5.445733070373535\n",
            "ITERATION 3000/3125.0, LOSS :: 5.164511203765869\n",
            "ITERATION 3100/3125.0, LOSS :: 4.617918968200684\n",
            "EPOCH: 0/4 , TEST ACC :: 43.276, TRAIN ACC :: 43.57\n"
          ],
          "name": "stdout"
        },
        {
          "output_type": "display_data",
          "data": {
            "image/png": "[encoded data removed]",
            "text/plain": [
              "<Figure size 432x288 with 1 Axes>"
            ]
          },
          "metadata": {
            "tags": []
          }
        },
        {
          "output_type": "stream",
          "text": [
            "ITERATION 0/3125.0, LOSS :: 3.684354782104492\n",
            "ITERATION 100/3125.0, LOSS :: 4.264715194702148\n",
            "ITERATION 200/3125.0, LOSS :: 5.143548965454102\n",
            "ITERATION 300/3125.0, LOSS :: 3.0360565185546875\n",
            "ITERATION 400/3125.0, LOSS :: 4.016683101654053\n",
            "ITERATION 500/3125.0, LOSS :: 3.8890275955200195\n",
            "ITERATION 600/3125.0, LOSS :: 5.985651016235352\n",
            "ITERATION 700/3125.0, LOSS :: 8.12802505493164\n",
            "ITERATION 800/3125.0, LOSS :: 7.538496017456055\n",
            "ITERATION 900/3125.0, LOSS :: 2.158301830291748\n",
            "ITERATION 1000/3125.0, LOSS :: 5.070749282836914\n",
            "ITERATION 1100/3125.0, LOSS :: 8.798279762268066\n",
            "ITERATION 1200/3125.0, LOSS :: 12.537947654724121\n",
            "ITERATION 1300/3125.0, LOSS :: 5.765451431274414\n",
            "ITERATION 1400/3125.0, LOSS :: 2.135496139526367\n",
            "ITERATION 1500/3125.0, LOSS :: 7.133388519287109\n",
            "ITERATION 1600/3125.0, LOSS :: 3.9517664909362793\n",
            "ITERATION 1700/3125.0, LOSS :: 8.211112976074219\n",
            "MINIMUM LOSS :: 0.5637451410293579\n",
            "ITERATION 1800/3125.0, LOSS :: 3.977231502532959\n",
            "ITERATION 1900/3125.0, LOSS :: 4.592551231384277\n",
            "ITERATION 2000/3125.0, LOSS :: 5.824324131011963\n",
            "ITERATION 2100/3125.0, LOSS :: 3.253087043762207\n",
            "ITERATION 2200/3125.0, LOSS :: 5.312952518463135\n",
            "ITERATION 2300/3125.0, LOSS :: 6.461296558380127\n",
            "ITERATION 2400/3125.0, LOSS :: 7.053400993347168\n",
            "ITERATION 2500/3125.0, LOSS :: 6.022629261016846\n",
            "ITERATION 2600/3125.0, LOSS :: 4.003473281860352\n",
            "ITERATION 2700/3125.0, LOSS :: 2.746349811553955\n",
            "ITERATION 2800/3125.0, LOSS :: 2.72177791595459\n",
            "ITERATION 2900/3125.0, LOSS :: 6.3162946701049805\n",
            "ITERATION 3000/3125.0, LOSS :: 6.5247321128845215\n",
            "ITERATION 3100/3125.0, LOSS :: 5.888177871704102\n",
            "EPOCH: 1/4 , TEST ACC :: 43.3, TRAIN ACC :: 43.35\n"
          ],
          "name": "stdout"
        },
        {
          "output_type": "display_data",
          "data": {
            "image/png": "[encoded data removed]",
            "text/plain": [
              "<Figure size 432x288 with 1 Axes>"
            ]
          },
          "metadata": {
            "tags": []
          }
        },
        {
          "output_type": "stream",
          "text": [
            "ITERATION 0/3125.0, LOSS :: 5.244724750518799\n",
            "ITERATION 100/3125.0, LOSS :: 2.9461421966552734\n",
            "ITERATION 200/3125.0, LOSS :: 5.916530132293701\n",
            "ITERATION 300/3125.0, LOSS :: 5.2794294357299805\n",
            "ITERATION 400/3125.0, LOSS :: 6.649587631225586\n",
            "ITERATION 500/3125.0, LOSS :: 3.8936381340026855\n",
            "ITERATION 600/3125.0, LOSS :: 7.893035411834717\n",
            "ITERATION 700/3125.0, LOSS :: 5.752154350280762\n",
            "MINIMUM LOSS :: 0.4313983619213104\n",
            "ITERATION 800/3125.0, LOSS :: 3.4073355197906494\n",
            "ITERATION 900/3125.0, LOSS :: 5.283031940460205\n",
            "ITERATION 1000/3125.0, LOSS :: 3.931551456451416\n",
            "ITERATION 1100/3125.0, LOSS :: 5.95114803314209\n",
            "ITERATION 1200/3125.0, LOSS :: 6.918299198150635\n",
            "ITERATION 1300/3125.0, LOSS :: 3.9770848751068115\n",
            "ITERATION 1400/3125.0, LOSS :: 7.070964336395264\n",
            "ITERATION 1500/3125.0, LOSS :: 5.744743347167969\n",
            "ITERATION 1600/3125.0, LOSS :: 5.709494590759277\n",
            "ITERATION 1700/3125.0, LOSS :: 2.926774024963379\n",
            "ITERATION 1800/3125.0, LOSS :: 4.597794532775879\n",
            "ITERATION 1900/3125.0, LOSS :: 7.186336517333984\n",
            "ITERATION 2000/3125.0, LOSS :: 8.967925071716309\n",
            "ITERATION 2100/3125.0, LOSS :: 8.286264419555664\n",
            "ITERATION 2200/3125.0, LOSS :: 4.381060600280762\n",
            "ITERATION 2300/3125.0, LOSS :: 4.182890892028809\n",
            "ITERATION 2400/3125.0, LOSS :: 6.39664888381958\n",
            "ITERATION 2500/3125.0, LOSS :: 5.166830062866211\n",
            "ITERATION 2600/3125.0, LOSS :: 5.657773971557617\n",
            "ITERATION 2700/3125.0, LOSS :: 4.244474411010742\n",
            "ITERATION 2800/3125.0, LOSS :: 5.24898624420166\n",
            "ITERATION 2900/3125.0, LOSS :: 5.7719011306762695\n",
            "ITERATION 3000/3125.0, LOSS :: 5.6407012939453125\n",
            "ITERATION 3100/3125.0, LOSS :: 4.421874523162842\n",
            "EPOCH: 2/4 , TEST ACC :: 43.136, TRAIN ACC :: 43.31\n"
          ],
          "name": "stdout"
        },
        {
          "output_type": "display_data",
          "data": {
            "image/png": "[encoded data removed]",
            "text/plain": [
              "<Figure size 432x288 with 1 Axes>"
            ]
          },
          "metadata": {
            "tags": []
          }
        },
        {
          "output_type": "stream",
          "text": [
            "ITERATION 0/3125.0, LOSS :: 6.359292984008789\n",
            "ITERATION 100/3125.0, LOSS :: 6.617465019226074\n",
            "ITERATION 200/3125.0, LOSS :: 7.6582207679748535\n",
            "ITERATION 300/3125.0, LOSS :: 5.7881903648376465\n",
            "ITERATION 400/3125.0, LOSS :: 3.951618194580078\n",
            "ITERATION 500/3125.0, LOSS :: 1.9581687450408936\n",
            "ITERATION 600/3125.0, LOSS :: 3.288773536682129\n",
            "ITERATION 700/3125.0, LOSS :: 7.920048236846924\n",
            "ITERATION 800/3125.0, LOSS :: 5.402163505554199\n",
            "ITERATION 900/3125.0, LOSS :: 7.415318965911865\n",
            "ITERATION 1000/3125.0, LOSS :: 7.647205352783203\n",
            "ITERATION 1100/3125.0, LOSS :: 8.330759048461914\n",
            "ITERATION 1200/3125.0, LOSS :: 6.754742622375488\n",
            "ITERATION 1300/3125.0, LOSS :: 4.193521499633789\n",
            "ITERATION 1400/3125.0, LOSS :: 2.3842711448669434\n",
            "ITERATION 1500/3125.0, LOSS :: 7.420166969299316\n",
            "ITERATION 1600/3125.0, LOSS :: 3.8938021659851074\n",
            "ITERATION 1700/3125.0, LOSS :: 5.935288429260254\n",
            "ITERATION 1800/3125.0, LOSS :: 6.560218334197998\n",
            "ITERATION 1900/3125.0, LOSS :: 3.4491937160491943\n",
            "ITERATION 2000/3125.0, LOSS :: 6.422150611877441\n",
            "ITERATION 2100/3125.0, LOSS :: 5.383715629577637\n",
            "ITERATION 2200/3125.0, LOSS :: 7.7517805099487305\n",
            "ITERATION 2300/3125.0, LOSS :: 12.98975658416748\n",
            "ITERATION 2400/3125.0, LOSS :: 6.392146587371826\n",
            "ITERATION 2500/3125.0, LOSS :: 3.160982131958008\n",
            "ITERATION 2600/3125.0, LOSS :: 6.249054431915283\n",
            "ITERATION 2700/3125.0, LOSS :: 5.963137149810791\n",
            "ITERATION 2800/3125.0, LOSS :: 1.932706594467163\n",
            "ITERATION 2900/3125.0, LOSS :: 6.662546157836914\n",
            "ITERATION 3000/3125.0, LOSS :: 3.739315986633301\n",
            "ITERATION 3100/3125.0, LOSS :: 8.925743103027344\n",
            "EPOCH: 3/4 , TEST ACC :: 43.088, TRAIN ACC :: 43.73\n"
          ],
          "name": "stdout"
        },
        {
          "output_type": "display_data",
          "data": {
            "image/png": "[encoded data removed]",
            "text/plain": [
              "<Figure size 432x288 with 1 Axes>"
            ]
          },
          "metadata": {
            "tags": []
          }
        }
      ]
    },
    {
      "cell_type": "code",
      "metadata": {
        "id": "hAC6kNeBYTN4",
        "colab_type": "code",
        "outputId": "7dd79c83-b0d8-4f74-f751-8e17f935dc76",
        "colab": {
          "base_uri": "https://localhost:8080/",
          "height": 34
        }
      },
      "source": [
        "RESNET.load_state_dict(best_model)\n",
        "print(evaluation(trainloader, RESNET), evaluation(testloader, RESNET))"
      ],
      "execution_count": 0,
      "outputs": [
        {
          "output_type": "stream",
          "text": [
            "43.21 42.39\n"
          ],
          "name": "stdout"
        }
      ]
    },
    {
      "cell_type": "markdown",
      "metadata": {
        "id": "vI6GJmDKVK21",
        "colab_type": "text"
      },
      "source": [
        "# INCEPTION V3 MODEL"
      ]
    },
    {
      "cell_type": "code",
      "metadata": {
        "id": "q6YZ94HLSAWe",
        "colab_type": "code",
        "colab": {}
      },
      "source": [
        "INCEPTION = models.inception_v3(pretrained = True)"
      ],
      "execution_count": 0,
      "outputs": []
    },
    {
      "cell_type": "code",
      "metadata": {
        "id": "aJTNwwYbVksc",
        "colab_type": "code",
        "outputId": "d04d21b5-dcd0-4159-96e6-d98343ad6859",
        "colab": {
          "base_uri": "https://localhost:8080/",
          "height": 1000
        }
      },
      "source": [
        "print(INCEPTION)"
      ],
      "execution_count": 0,
      "outputs": [
        {
          "output_type": "stream",
          "text": [
            "Inception3(\n",
            "  (Conv2d_1a_3x3): BasicConv2d(\n",
            "    (conv): Conv2d(3, 32, kernel_size=(3, 3), stride=(2, 2), bias=False)\n",
            "    (bn): BatchNorm2d(32, eps=0.001, momentum=0.1, affine=True, track_running_stats=True)\n",
            "  )\n",
            "  (Conv2d_2a_3x3): BasicConv2d(\n",
            "    (conv): Conv2d(32, 32, kernel_size=(3, 3), stride=(1, 1), bias=False)\n",
            "    (bn): BatchNorm2d(32, eps=0.001, momentum=0.1, affine=True, track_running_stats=True)\n",
            "  )\n",
            "  (Conv2d_2b_3x3): BasicConv2d(\n",
            "    (conv): Conv2d(32, 64, kernel_size=(3, 3), stride=(1, 1), padding=(1, 1), bias=False)\n",
            "    (bn): BatchNorm2d(64, eps=0.001, momentum=0.1, affine=True, track_running_stats=True)\n",
            "  )\n",
            "  (Conv2d_3b_1x1): BasicConv2d(\n",
            "    (conv): Conv2d(64, 80, kernel_size=(1, 1), stride=(1, 1), bias=False)\n",
            "    (bn): BatchNorm2d(80, eps=0.001, momentum=0.1, affine=True, track_running_stats=True)\n",
            "  )\n",
            "  (Conv2d_4a_3x3): BasicConv2d(\n",
            "    (conv): Conv2d(80, 192, kernel_size=(3, 3), stride=(1, 1), bias=False)\n",
            "    (bn): BatchNorm2d(192, eps=0.001, momentum=0.1, affine=True, track_running_stats=True)\n",
            "  )\n",
            "  (Mixed_5b): InceptionA(\n",
            "    (branch1x1): BasicConv2d(\n",
            "      (conv): Conv2d(192, 64, kernel_size=(1, 1), stride=(1, 1), bias=False)\n",
            "      (bn): BatchNorm2d(64, eps=0.001, momentum=0.1, affine=True, track_running_stats=True)\n",
            "    )\n",
            "    (branch5x5_1): BasicConv2d(\n",
            "      (conv): Conv2d(192, 48, kernel_size=(1, 1), stride=(1, 1), bias=False)\n",
            "      (bn): BatchNorm2d(48, eps=0.001, momentum=0.1, affine=True, track_running_stats=True)\n",
            "    )\n",
            "    (branch5x5_2): BasicConv2d(\n",
            "      (conv): Conv2d(48, 64, kernel_size=(5, 5), stride=(1, 1), padding=(2, 2), bias=False)\n",
            "      (bn): BatchNorm2d(64, eps=0.001, momentum=0.1, affine=True, track_running_stats=True)\n",
            "    )\n",
            "    (branch3x3dbl_1): BasicConv2d(\n",
            "      (conv): Conv2d(192, 64, kernel_size=(1, 1), stride=(1, 1), bias=False)\n",
            "      (bn): BatchNorm2d(64, eps=0.001, momentum=0.1, affine=True, track_running_stats=True)\n",
            "    )\n",
            "    (branch3x3dbl_2): BasicConv2d(\n",
            "      (conv): Conv2d(64, 96, kernel_size=(3, 3), stride=(1, 1), padding=(1, 1), bias=False)\n",
            "      (bn): BatchNorm2d(96, eps=0.001, momentum=0.1, affine=True, track_running_stats=True)\n",
            "    )\n",
            "    (branch3x3dbl_3): BasicConv2d(\n",
            "      (conv): Conv2d(96, 96, kernel_size=(3, 3), stride=(1, 1), padding=(1, 1), bias=False)\n",
            "      (bn): BatchNorm2d(96, eps=0.001, momentum=0.1, affine=True, track_running_stats=True)\n",
            "    )\n",
            "    (branch_pool): BasicConv2d(\n",
            "      (conv): Conv2d(192, 32, kernel_size=(1, 1), stride=(1, 1), bias=False)\n",
            "      (bn): BatchNorm2d(32, eps=0.001, momentum=0.1, affine=True, track_running_stats=True)\n",
            "    )\n",
            "  )\n",
            "  (Mixed_5c): InceptionA(\n",
            "    (branch1x1): BasicConv2d(\n",
            "      (conv): Conv2d(256, 64, kernel_size=(1, 1), stride=(1, 1), bias=False)\n",
            "      (bn): BatchNorm2d(64, eps=0.001, momentum=0.1, affine=True, track_running_stats=True)\n",
            "    )\n",
            "    (branch5x5_1): BasicConv2d(\n",
            "      (conv): Conv2d(256, 48, kernel_size=(1, 1), stride=(1, 1), bias=False)\n",
            "      (bn): BatchNorm2d(48, eps=0.001, momentum=0.1, affine=True, track_running_stats=True)\n",
            "    )\n",
            "    (branch5x5_2): BasicConv2d(\n",
            "      (conv): Conv2d(48, 64, kernel_size=(5, 5), stride=(1, 1), padding=(2, 2), bias=False)\n",
            "      (bn): BatchNorm2d(64, eps=0.001, momentum=0.1, affine=True, track_running_stats=True)\n",
            "    )\n",
            "    (branch3x3dbl_1): BasicConv2d(\n",
            "      (conv): Conv2d(256, 64, kernel_size=(1, 1), stride=(1, 1), bias=False)\n",
            "      (bn): BatchNorm2d(64, eps=0.001, momentum=0.1, affine=True, track_running_stats=True)\n",
            "    )\n",
            "    (branch3x3dbl_2): BasicConv2d(\n",
            "      (conv): Conv2d(64, 96, kernel_size=(3, 3), stride=(1, 1), padding=(1, 1), bias=False)\n",
            "      (bn): BatchNorm2d(96, eps=0.001, momentum=0.1, affine=True, track_running_stats=True)\n",
            "    )\n",
            "    (branch3x3dbl_3): BasicConv2d(\n",
            "      (conv): Conv2d(96, 96, kernel_size=(3, 3), stride=(1, 1), padding=(1, 1), bias=False)\n",
            "      (bn): BatchNorm2d(96, eps=0.001, momentum=0.1, affine=True, track_running_stats=True)\n",
            "    )\n",
            "    (branch_pool): BasicConv2d(\n",
            "      (conv): Conv2d(256, 64, kernel_size=(1, 1), stride=(1, 1), bias=False)\n",
            "      (bn): BatchNorm2d(64, eps=0.001, momentum=0.1, affine=True, track_running_stats=True)\n",
            "    )\n",
            "  )\n",
            "  (Mixed_5d): InceptionA(\n",
            "    (branch1x1): BasicConv2d(\n",
            "      (conv): Conv2d(288, 64, kernel_size=(1, 1), stride=(1, 1), bias=False)\n",
            "      (bn): BatchNorm2d(64, eps=0.001, momentum=0.1, affine=True, track_running_stats=True)\n",
            "    )\n",
            "    (branch5x5_1): BasicConv2d(\n",
            "      (conv): Conv2d(288, 48, kernel_size=(1, 1), stride=(1, 1), bias=False)\n",
            "      (bn): BatchNorm2d(48, eps=0.001, momentum=0.1, affine=True, track_running_stats=True)\n",
            "    )\n",
            "    (branch5x5_2): BasicConv2d(\n",
            "      (conv): Conv2d(48, 64, kernel_size=(5, 5), stride=(1, 1), padding=(2, 2), bias=False)\n",
            "      (bn): BatchNorm2d(64, eps=0.001, momentum=0.1, affine=True, track_running_stats=True)\n",
            "    )\n",
            "    (branch3x3dbl_1): BasicConv2d(\n",
            "      (conv): Conv2d(288, 64, kernel_size=(1, 1), stride=(1, 1), bias=False)\n",
            "      (bn): BatchNorm2d(64, eps=0.001, momentum=0.1, affine=True, track_running_stats=True)\n",
            "    )\n",
            "    (branch3x3dbl_2): BasicConv2d(\n",
            "      (conv): Conv2d(64, 96, kernel_size=(3, 3), stride=(1, 1), padding=(1, 1), bias=False)\n",
            "      (bn): BatchNorm2d(96, eps=0.001, momentum=0.1, affine=True, track_running_stats=True)\n",
            "    )\n",
            "    (branch3x3dbl_3): BasicConv2d(\n",
            "      (conv): Conv2d(96, 96, kernel_size=(3, 3), stride=(1, 1), padding=(1, 1), bias=False)\n",
            "      (bn): BatchNorm2d(96, eps=0.001, momentum=0.1, affine=True, track_running_stats=True)\n",
            "    )\n",
            "    (branch_pool): BasicConv2d(\n",
            "      (conv): Conv2d(288, 64, kernel_size=(1, 1), stride=(1, 1), bias=False)\n",
            "      (bn): BatchNorm2d(64, eps=0.001, momentum=0.1, affine=True, track_running_stats=True)\n",
            "    )\n",
            "  )\n",
            "  (Mixed_6a): InceptionB(\n",
            "    (branch3x3): BasicConv2d(\n",
            "      (conv): Conv2d(288, 384, kernel_size=(3, 3), stride=(2, 2), bias=False)\n",
            "      (bn): BatchNorm2d(384, eps=0.001, momentum=0.1, affine=True, track_running_stats=True)\n",
            "    )\n",
            "    (branch3x3dbl_1): BasicConv2d(\n",
            "      (conv): Conv2d(288, 64, kernel_size=(1, 1), stride=(1, 1), bias=False)\n",
            "      (bn): BatchNorm2d(64, eps=0.001, momentum=0.1, affine=True, track_running_stats=True)\n",
            "    )\n",
            "    (branch3x3dbl_2): BasicConv2d(\n",
            "      (conv): Conv2d(64, 96, kernel_size=(3, 3), stride=(1, 1), padding=(1, 1), bias=False)\n",
            "      (bn): BatchNorm2d(96, eps=0.001, momentum=0.1, affine=True, track_running_stats=True)\n",
            "    )\n",
            "    (branch3x3dbl_3): BasicConv2d(\n",
            "      (conv): Conv2d(96, 96, kernel_size=(3, 3), stride=(2, 2), bias=False)\n",
            "      (bn): BatchNorm2d(96, eps=0.001, momentum=0.1, affine=True, track_running_stats=True)\n",
            "    )\n",
            "  )\n",
            "  (Mixed_6b): InceptionC(\n",
            "    (branch1x1): BasicConv2d(\n",
            "      (conv): Conv2d(768, 192, kernel_size=(1, 1), stride=(1, 1), bias=False)\n",
            "      (bn): BatchNorm2d(192, eps=0.001, momentum=0.1, affine=True, track_running_stats=True)\n",
            "    )\n",
            "    (branch7x7_1): BasicConv2d(\n",
            "      (conv): Conv2d(768, 128, kernel_size=(1, 1), stride=(1, 1), bias=False)\n",
            "      (bn): BatchNorm2d(128, eps=0.001, momentum=0.1, affine=True, track_running_stats=True)\n",
            "    )\n",
            "    (branch7x7_2): BasicConv2d(\n",
            "      (conv): Conv2d(128, 128, kernel_size=(1, 7), stride=(1, 1), padding=(0, 3), bias=False)\n",
            "      (bn): BatchNorm2d(128, eps=0.001, momentum=0.1, affine=True, track_running_stats=True)\n",
            "    )\n",
            "    (branch7x7_3): BasicConv2d(\n",
            "      (conv): Conv2d(128, 192, kernel_size=(7, 1), stride=(1, 1), padding=(3, 0), bias=False)\n",
            "      (bn): BatchNorm2d(192, eps=0.001, momentum=0.1, affine=True, track_running_stats=True)\n",
            "    )\n",
            "    (branch7x7dbl_1): BasicConv2d(\n",
            "      (conv): Conv2d(768, 128, kernel_size=(1, 1), stride=(1, 1), bias=False)\n",
            "      (bn): BatchNorm2d(128, eps=0.001, momentum=0.1, affine=True, track_running_stats=True)\n",
            "    )\n",
            "    (branch7x7dbl_2): BasicConv2d(\n",
            "      (conv): Conv2d(128, 128, kernel_size=(7, 1), stride=(1, 1), padding=(3, 0), bias=False)\n",
            "      (bn): BatchNorm2d(128, eps=0.001, momentum=0.1, affine=True, track_running_stats=True)\n",
            "    )\n",
            "    (branch7x7dbl_3): BasicConv2d(\n",
            "      (conv): Conv2d(128, 128, kernel_size=(1, 7), stride=(1, 1), padding=(0, 3), bias=False)\n",
            "      (bn): BatchNorm2d(128, eps=0.001, momentum=0.1, affine=True, track_running_stats=True)\n",
            "    )\n",
            "    (branch7x7dbl_4): BasicConv2d(\n",
            "      (conv): Conv2d(128, 128, kernel_size=(7, 1), stride=(1, 1), padding=(3, 0), bias=False)\n",
            "      (bn): BatchNorm2d(128, eps=0.001, momentum=0.1, affine=True, track_running_stats=True)\n",
            "    )\n",
            "    (branch7x7dbl_5): BasicConv2d(\n",
            "      (conv): Conv2d(128, 192, kernel_size=(1, 7), stride=(1, 1), padding=(0, 3), bias=False)\n",
            "      (bn): BatchNorm2d(192, eps=0.001, momentum=0.1, affine=True, track_running_stats=True)\n",
            "    )\n",
            "    (branch_pool): BasicConv2d(\n",
            "      (conv): Conv2d(768, 192, kernel_size=(1, 1), stride=(1, 1), bias=False)\n",
            "      (bn): BatchNorm2d(192, eps=0.001, momentum=0.1, affine=True, track_running_stats=True)\n",
            "    )\n",
            "  )\n",
            "  (Mixed_6c): InceptionC(\n",
            "    (branch1x1): BasicConv2d(\n",
            "      (conv): Conv2d(768, 192, kernel_size=(1, 1), stride=(1, 1), bias=False)\n",
            "      (bn): BatchNorm2d(192, eps=0.001, momentum=0.1, affine=True, track_running_stats=True)\n",
            "    )\n",
            "    (branch7x7_1): BasicConv2d(\n",
            "      (conv): Conv2d(768, 160, kernel_size=(1, 1), stride=(1, 1), bias=False)\n",
            "      (bn): BatchNorm2d(160, eps=0.001, momentum=0.1, affine=True, track_running_stats=True)\n",
            "    )\n",
            "    (branch7x7_2): BasicConv2d(\n",
            "      (conv): Conv2d(160, 160, kernel_size=(1, 7), stride=(1, 1), padding=(0, 3), bias=False)\n",
            "      (bn): BatchNorm2d(160, eps=0.001, momentum=0.1, affine=True, track_running_stats=True)\n",
            "    )\n",
            "    (branch7x7_3): BasicConv2d(\n",
            "      (conv): Conv2d(160, 192, kernel_size=(7, 1), stride=(1, 1), padding=(3, 0), bias=False)\n",
            "      (bn): BatchNorm2d(192, eps=0.001, momentum=0.1, affine=True, track_running_stats=True)\n",
            "    )\n",
            "    (branch7x7dbl_1): BasicConv2d(\n",
            "      (conv): Conv2d(768, 160, kernel_size=(1, 1), stride=(1, 1), bias=False)\n",
            "      (bn): BatchNorm2d(160, eps=0.001, momentum=0.1, affine=True, track_running_stats=True)\n",
            "    )\n",
            "    (branch7x7dbl_2): BasicConv2d(\n",
            "      (conv): Conv2d(160, 160, kernel_size=(7, 1), stride=(1, 1), padding=(3, 0), bias=False)\n",
            "      (bn): BatchNorm2d(160, eps=0.001, momentum=0.1, affine=True, track_running_stats=True)\n",
            "    )\n",
            "    (branch7x7dbl_3): BasicConv2d(\n",
            "      (conv): Conv2d(160, 160, kernel_size=(1, 7), stride=(1, 1), padding=(0, 3), bias=False)\n",
            "      (bn): BatchNorm2d(160, eps=0.001, momentum=0.1, affine=True, track_running_stats=True)\n",
            "    )\n",
            "    (branch7x7dbl_4): BasicConv2d(\n",
            "      (conv): Conv2d(160, 160, kernel_size=(7, 1), stride=(1, 1), padding=(3, 0), bias=False)\n",
            "      (bn): BatchNorm2d(160, eps=0.001, momentum=0.1, affine=True, track_running_stats=True)\n",
            "    )\n",
            "    (branch7x7dbl_5): BasicConv2d(\n",
            "      (conv): Conv2d(160, 192, kernel_size=(1, 7), stride=(1, 1), padding=(0, 3), bias=False)\n",
            "      (bn): BatchNorm2d(192, eps=0.001, momentum=0.1, affine=True, track_running_stats=True)\n",
            "    )\n",
            "    (branch_pool): BasicConv2d(\n",
            "      (conv): Conv2d(768, 192, kernel_size=(1, 1), stride=(1, 1), bias=False)\n",
            "      (bn): BatchNorm2d(192, eps=0.001, momentum=0.1, affine=True, track_running_stats=True)\n",
            "    )\n",
            "  )\n",
            "  (Mixed_6d): InceptionC(\n",
            "    (branch1x1): BasicConv2d(\n",
            "      (conv): Conv2d(768, 192, kernel_size=(1, 1), stride=(1, 1), bias=False)\n",
            "      (bn): BatchNorm2d(192, eps=0.001, momentum=0.1, affine=True, track_running_stats=True)\n",
            "    )\n",
            "    (branch7x7_1): BasicConv2d(\n",
            "      (conv): Conv2d(768, 160, kernel_size=(1, 1), stride=(1, 1), bias=False)\n",
            "      (bn): BatchNorm2d(160, eps=0.001, momentum=0.1, affine=True, track_running_stats=True)\n",
            "    )\n",
            "    (branch7x7_2): BasicConv2d(\n",
            "      (conv): Conv2d(160, 160, kernel_size=(1, 7), stride=(1, 1), padding=(0, 3), bias=False)\n",
            "      (bn): BatchNorm2d(160, eps=0.001, momentum=0.1, affine=True, track_running_stats=True)\n",
            "    )\n",
            "    (branch7x7_3): BasicConv2d(\n",
            "      (conv): Conv2d(160, 192, kernel_size=(7, 1), stride=(1, 1), padding=(3, 0), bias=False)\n",
            "      (bn): BatchNorm2d(192, eps=0.001, momentum=0.1, affine=True, track_running_stats=True)\n",
            "    )\n",
            "    (branch7x7dbl_1): BasicConv2d(\n",
            "      (conv): Conv2d(768, 160, kernel_size=(1, 1), stride=(1, 1), bias=False)\n",
            "      (bn): BatchNorm2d(160, eps=0.001, momentum=0.1, affine=True, track_running_stats=True)\n",
            "    )\n",
            "    (branch7x7dbl_2): BasicConv2d(\n",
            "      (conv): Conv2d(160, 160, kernel_size=(7, 1), stride=(1, 1), padding=(3, 0), bias=False)\n",
            "      (bn): BatchNorm2d(160, eps=0.001, momentum=0.1, affine=True, track_running_stats=True)\n",
            "    )\n",
            "    (branch7x7dbl_3): BasicConv2d(\n",
            "      (conv): Conv2d(160, 160, kernel_size=(1, 7), stride=(1, 1), padding=(0, 3), bias=False)\n",
            "      (bn): BatchNorm2d(160, eps=0.001, momentum=0.1, affine=True, track_running_stats=True)\n",
            "    )\n",
            "    (branch7x7dbl_4): BasicConv2d(\n",
            "      (conv): Conv2d(160, 160, kernel_size=(7, 1), stride=(1, 1), padding=(3, 0), bias=False)\n",
            "      (bn): BatchNorm2d(160, eps=0.001, momentum=0.1, affine=True, track_running_stats=True)\n",
            "    )\n",
            "    (branch7x7dbl_5): BasicConv2d(\n",
            "      (conv): Conv2d(160, 192, kernel_size=(1, 7), stride=(1, 1), padding=(0, 3), bias=False)\n",
            "      (bn): BatchNorm2d(192, eps=0.001, momentum=0.1, affine=True, track_running_stats=True)\n",
            "    )\n",
            "    (branch_pool): BasicConv2d(\n",
            "      (conv): Conv2d(768, 192, kernel_size=(1, 1), stride=(1, 1), bias=False)\n",
            "      (bn): BatchNorm2d(192, eps=0.001, momentum=0.1, affine=True, track_running_stats=True)\n",
            "    )\n",
            "  )\n",
            "  (Mixed_6e): InceptionC(\n",
            "    (branch1x1): BasicConv2d(\n",
            "      (conv): Conv2d(768, 192, kernel_size=(1, 1), stride=(1, 1), bias=False)\n",
            "      (bn): BatchNorm2d(192, eps=0.001, momentum=0.1, affine=True, track_running_stats=True)\n",
            "    )\n",
            "    (branch7x7_1): BasicConv2d(\n",
            "      (conv): Conv2d(768, 192, kernel_size=(1, 1), stride=(1, 1), bias=False)\n",
            "      (bn): BatchNorm2d(192, eps=0.001, momentum=0.1, affine=True, track_running_stats=True)\n",
            "    )\n",
            "    (branch7x7_2): BasicConv2d(\n",
            "      (conv): Conv2d(192, 192, kernel_size=(1, 7), stride=(1, 1), padding=(0, 3), bias=False)\n",
            "      (bn): BatchNorm2d(192, eps=0.001, momentum=0.1, affine=True, track_running_stats=True)\n",
            "    )\n",
            "    (branch7x7_3): BasicConv2d(\n",
            "      (conv): Conv2d(192, 192, kernel_size=(7, 1), stride=(1, 1), padding=(3, 0), bias=False)\n",
            "      (bn): BatchNorm2d(192, eps=0.001, momentum=0.1, affine=True, track_running_stats=True)\n",
            "    )\n",
            "    (branch7x7dbl_1): BasicConv2d(\n",
            "      (conv): Conv2d(768, 192, kernel_size=(1, 1), stride=(1, 1), bias=False)\n",
            "      (bn): BatchNorm2d(192, eps=0.001, momentum=0.1, affine=True, track_running_stats=True)\n",
            "    )\n",
            "    (branch7x7dbl_2): BasicConv2d(\n",
            "      (conv): Conv2d(192, 192, kernel_size=(7, 1), stride=(1, 1), padding=(3, 0), bias=False)\n",
            "      (bn): BatchNorm2d(192, eps=0.001, momentum=0.1, affine=True, track_running_stats=True)\n",
            "    )\n",
            "    (branch7x7dbl_3): BasicConv2d(\n",
            "      (conv): Conv2d(192, 192, kernel_size=(1, 7), stride=(1, 1), padding=(0, 3), bias=False)\n",
            "      (bn): BatchNorm2d(192, eps=0.001, momentum=0.1, affine=True, track_running_stats=True)\n",
            "    )\n",
            "    (branch7x7dbl_4): BasicConv2d(\n",
            "      (conv): Conv2d(192, 192, kernel_size=(7, 1), stride=(1, 1), padding=(3, 0), bias=False)\n",
            "      (bn): BatchNorm2d(192, eps=0.001, momentum=0.1, affine=True, track_running_stats=True)\n",
            "    )\n",
            "    (branch7x7dbl_5): BasicConv2d(\n",
            "      (conv): Conv2d(192, 192, kernel_size=(1, 7), stride=(1, 1), padding=(0, 3), bias=False)\n",
            "      (bn): BatchNorm2d(192, eps=0.001, momentum=0.1, affine=True, track_running_stats=True)\n",
            "    )\n",
            "    (branch_pool): BasicConv2d(\n",
            "      (conv): Conv2d(768, 192, kernel_size=(1, 1), stride=(1, 1), bias=False)\n",
            "      (bn): BatchNorm2d(192, eps=0.001, momentum=0.1, affine=True, track_running_stats=True)\n",
            "    )\n",
            "  )\n",
            "  (AuxLogits): InceptionAux(\n",
            "    (conv0): BasicConv2d(\n",
            "      (conv): Conv2d(768, 128, kernel_size=(1, 1), stride=(1, 1), bias=False)\n",
            "      (bn): BatchNorm2d(128, eps=0.001, momentum=0.1, affine=True, track_running_stats=True)\n",
            "    )\n",
            "    (conv1): BasicConv2d(\n",
            "      (conv): Conv2d(128, 768, kernel_size=(5, 5), stride=(1, 1), bias=False)\n",
            "      (bn): BatchNorm2d(768, eps=0.001, momentum=0.1, affine=True, track_running_stats=True)\n",
            "    )\n",
            "    (fc): Linear(in_features=768, out_features=1000, bias=True)\n",
            "  )\n",
            "  (Mixed_7a): InceptionD(\n",
            "    (branch3x3_1): BasicConv2d(\n",
            "      (conv): Conv2d(768, 192, kernel_size=(1, 1), stride=(1, 1), bias=False)\n",
            "      (bn): BatchNorm2d(192, eps=0.001, momentum=0.1, affine=True, track_running_stats=True)\n",
            "    )\n",
            "    (branch3x3_2): BasicConv2d(\n",
            "      (conv): Conv2d(192, 320, kernel_size=(3, 3), stride=(2, 2), bias=False)\n",
            "      (bn): BatchNorm2d(320, eps=0.001, momentum=0.1, affine=True, track_running_stats=True)\n",
            "    )\n",
            "    (branch7x7x3_1): BasicConv2d(\n",
            "      (conv): Conv2d(768, 192, kernel_size=(1, 1), stride=(1, 1), bias=False)\n",
            "      (bn): BatchNorm2d(192, eps=0.001, momentum=0.1, affine=True, track_running_stats=True)\n",
            "    )\n",
            "    (branch7x7x3_2): BasicConv2d(\n",
            "      (conv): Conv2d(192, 192, kernel_size=(1, 7), stride=(1, 1), padding=(0, 3), bias=False)\n",
            "      (bn): BatchNorm2d(192, eps=0.001, momentum=0.1, affine=True, track_running_stats=True)\n",
            "    )\n",
            "    (branch7x7x3_3): BasicConv2d(\n",
            "      (conv): Conv2d(192, 192, kernel_size=(7, 1), stride=(1, 1), padding=(3, 0), bias=False)\n",
            "      (bn): BatchNorm2d(192, eps=0.001, momentum=0.1, affine=True, track_running_stats=True)\n",
            "    )\n",
            "    (branch7x7x3_4): BasicConv2d(\n",
            "      (conv): Conv2d(192, 192, kernel_size=(3, 3), stride=(2, 2), bias=False)\n",
            "      (bn): BatchNorm2d(192, eps=0.001, momentum=0.1, affine=True, track_running_stats=True)\n",
            "    )\n",
            "  )\n",
            "  (Mixed_7b): InceptionE(\n",
            "    (branch1x1): BasicConv2d(\n",
            "      (conv): Conv2d(1280, 320, kernel_size=(1, 1), stride=(1, 1), bias=False)\n",
            "      (bn): BatchNorm2d(320, eps=0.001, momentum=0.1, affine=True, track_running_stats=True)\n",
            "    )\n",
            "    (branch3x3_1): BasicConv2d(\n",
            "      (conv): Conv2d(1280, 384, kernel_size=(1, 1), stride=(1, 1), bias=False)\n",
            "      (bn): BatchNorm2d(384, eps=0.001, momentum=0.1, affine=True, track_running_stats=True)\n",
            "    )\n",
            "    (branch3x3_2a): BasicConv2d(\n",
            "      (conv): Conv2d(384, 384, kernel_size=(1, 3), stride=(1, 1), padding=(0, 1), bias=False)\n",
            "      (bn): BatchNorm2d(384, eps=0.001, momentum=0.1, affine=True, track_running_stats=True)\n",
            "    )\n",
            "    (branch3x3_2b): BasicConv2d(\n",
            "      (conv): Conv2d(384, 384, kernel_size=(3, 1), stride=(1, 1), padding=(1, 0), bias=False)\n",
            "      (bn): BatchNorm2d(384, eps=0.001, momentum=0.1, affine=True, track_running_stats=True)\n",
            "    )\n",
            "    (branch3x3dbl_1): BasicConv2d(\n",
            "      (conv): Conv2d(1280, 448, kernel_size=(1, 1), stride=(1, 1), bias=False)\n",
            "      (bn): BatchNorm2d(448, eps=0.001, momentum=0.1, affine=True, track_running_stats=True)\n",
            "    )\n",
            "    (branch3x3dbl_2): BasicConv2d(\n",
            "      (conv): Conv2d(448, 384, kernel_size=(3, 3), stride=(1, 1), padding=(1, 1), bias=False)\n",
            "      (bn): BatchNorm2d(384, eps=0.001, momentum=0.1, affine=True, track_running_stats=True)\n",
            "    )\n",
            "    (branch3x3dbl_3a): BasicConv2d(\n",
            "      (conv): Conv2d(384, 384, kernel_size=(1, 3), stride=(1, 1), padding=(0, 1), bias=False)\n",
            "      (bn): BatchNorm2d(384, eps=0.001, momentum=0.1, affine=True, track_running_stats=True)\n",
            "    )\n",
            "    (branch3x3dbl_3b): BasicConv2d(\n",
            "      (conv): Conv2d(384, 384, kernel_size=(3, 1), stride=(1, 1), padding=(1, 0), bias=False)\n",
            "      (bn): BatchNorm2d(384, eps=0.001, momentum=0.1, affine=True, track_running_stats=True)\n",
            "    )\n",
            "    (branch_pool): BasicConv2d(\n",
            "      (conv): Conv2d(1280, 192, kernel_size=(1, 1), stride=(1, 1), bias=False)\n",
            "      (bn): BatchNorm2d(192, eps=0.001, momentum=0.1, affine=True, track_running_stats=True)\n",
            "    )\n",
            "  )\n",
            "  (Mixed_7c): InceptionE(\n",
            "    (branch1x1): BasicConv2d(\n",
            "      (conv): Conv2d(2048, 320, kernel_size=(1, 1), stride=(1, 1), bias=False)\n",
            "      (bn): BatchNorm2d(320, eps=0.001, momentum=0.1, affine=True, track_running_stats=True)\n",
            "    )\n",
            "    (branch3x3_1): BasicConv2d(\n",
            "      (conv): Conv2d(2048, 384, kernel_size=(1, 1), stride=(1, 1), bias=False)\n",
            "      (bn): BatchNorm2d(384, eps=0.001, momentum=0.1, affine=True, track_running_stats=True)\n",
            "    )\n",
            "    (branch3x3_2a): BasicConv2d(\n",
            "      (conv): Conv2d(384, 384, kernel_size=(1, 3), stride=(1, 1), padding=(0, 1), bias=False)\n",
            "      (bn): BatchNorm2d(384, eps=0.001, momentum=0.1, affine=True, track_running_stats=True)\n",
            "    )\n",
            "    (branch3x3_2b): BasicConv2d(\n",
            "      (conv): Conv2d(384, 384, kernel_size=(3, 1), stride=(1, 1), padding=(1, 0), bias=False)\n",
            "      (bn): BatchNorm2d(384, eps=0.001, momentum=0.1, affine=True, track_running_stats=True)\n",
            "    )\n",
            "    (branch3x3dbl_1): BasicConv2d(\n",
            "      (conv): Conv2d(2048, 448, kernel_size=(1, 1), stride=(1, 1), bias=False)\n",
            "      (bn): BatchNorm2d(448, eps=0.001, momentum=0.1, affine=True, track_running_stats=True)\n",
            "    )\n",
            "    (branch3x3dbl_2): BasicConv2d(\n",
            "      (conv): Conv2d(448, 384, kernel_size=(3, 3), stride=(1, 1), padding=(1, 1), bias=False)\n",
            "      (bn): BatchNorm2d(384, eps=0.001, momentum=0.1, affine=True, track_running_stats=True)\n",
            "    )\n",
            "    (branch3x3dbl_3a): BasicConv2d(\n",
            "      (conv): Conv2d(384, 384, kernel_size=(1, 3), stride=(1, 1), padding=(0, 1), bias=False)\n",
            "      (bn): BatchNorm2d(384, eps=0.001, momentum=0.1, affine=True, track_running_stats=True)\n",
            "    )\n",
            "    (branch3x3dbl_3b): BasicConv2d(\n",
            "      (conv): Conv2d(384, 384, kernel_size=(3, 1), stride=(1, 1), padding=(1, 0), bias=False)\n",
            "      (bn): BatchNorm2d(384, eps=0.001, momentum=0.1, affine=True, track_running_stats=True)\n",
            "    )\n",
            "    (branch_pool): BasicConv2d(\n",
            "      (conv): Conv2d(2048, 192, kernel_size=(1, 1), stride=(1, 1), bias=False)\n",
            "      (bn): BatchNorm2d(192, eps=0.001, momentum=0.1, affine=True, track_running_stats=True)\n",
            "    )\n",
            "  )\n",
            "  (fc): Linear(in_features=2048, out_features=1000, bias=True)\n",
            ")\n"
          ],
          "name": "stdout"
        }
      ]
    },
    {
      "cell_type": "code",
      "metadata": {
        "id": "xl2C7iZ6g8pa",
        "colab_type": "code",
        "colab": {}
      },
      "source": [
        "for param in INCEPTION.parameters():\n",
        "  param.requires_grad = False\n",
        "  "
      ],
      "execution_count": 0,
      "outputs": []
    },
    {
      "cell_type": "code",
      "metadata": {
        "colab_type": "code",
        "id": "fO4lkLp-fbR2",
        "colab": {}
      },
      "source": [
        "aux_in_features = INCEPTION.AuxLogits.fc.in_features\n",
        "INCEPTION.AuxLogits.fc = nn.Linear(aux_in_features, num_classes)"
      ],
      "execution_count": 0,
      "outputs": []
    },
    {
      "cell_type": "code",
      "metadata": {
        "id": "7-g_bsFheZBu",
        "colab_type": "code",
        "outputId": "beb5e0b4-b4e9-44ea-cd71-c07b85b5c44d",
        "colab": {
          "base_uri": "https://localhost:8080/",
          "height": 50
        }
      },
      "source": [
        "for param in INCEPTION.parameters():\n",
        "  if param.requires_grad:\n",
        "    print(param.shape)"
      ],
      "execution_count": 0,
      "outputs": [
        {
          "output_type": "stream",
          "text": [
            "torch.Size([10, 768])\n",
            "torch.Size([10])\n"
          ],
          "name": "stdout"
        }
      ]
    },
    {
      "cell_type": "code",
      "metadata": {
        "id": "pTSglP3eecxH",
        "colab_type": "code",
        "colab": {}
      },
      "source": [
        "in_features = INCEPTION.fc.in_features\n",
        "INCEPTION.fc = nn.Linear(in_features, num_classes)"
      ],
      "execution_count": 0,
      "outputs": []
    },
    {
      "cell_type": "code",
      "metadata": {
        "id": "9nHzbZjFXePv",
        "colab_type": "code",
        "outputId": "14a0798c-eff0-40a0-aed3-f3392ed4d134",
        "colab": {
          "base_uri": "https://localhost:8080/",
          "height": 84
        }
      },
      "source": [
        "for param in INCEPTION.parameters():\n",
        "  if param.requires_grad:\n",
        "    print(param.shape)"
      ],
      "execution_count": 0,
      "outputs": [
        {
          "output_type": "stream",
          "text": [
            "torch.Size([10, 768])\n",
            "torch.Size([10])\n",
            "torch.Size([10, 2048])\n",
            "torch.Size([10])\n"
          ],
          "name": "stdout"
        }
      ]
    },
    {
      "cell_type": "code",
      "metadata": {
        "id": "fkX2REuJfQag",
        "colab_type": "code",
        "colab": {}
      },
      "source": [
        "transform_train_inception = transforms.Compose([\n",
        "                                     transforms.RandomResizedCrop(299),\n",
        "                                     transforms.ToTensor(),\n",
        "                                     transforms.Normalize((0.5,0.5,0.5), (0.5,0.5,0.5)) \n",
        "                                     ])\n",
        "transform_test_inception = transforms.Compose([\n",
        "                                     transforms.RandomResizedCrop(299),\n",
        "                                     transforms.ToTensor(),\n",
        "                                     transforms.Normalize((0.5,0.5,0.5), (0.5,0.5,0.5)) \n",
        "                                     ])"
      ],
      "execution_count": 0,
      "outputs": []
    },
    {
      "cell_type": "code",
      "metadata": {
        "id": "NX-cXCoOhf9M",
        "colab_type": "code",
        "outputId": "d4c686ff-d020-47f2-e365-b1c84f907645",
        "colab": {
          "base_uri": "https://localhost:8080/",
          "height": 50
        }
      },
      "source": [
        "trainset_inception = torchvision.datasets.CIFAR10(root = './data', train = True, download = True, transform = transform_train_inception)\n",
        "testset_inception = torchvision.datasets.CIFAR10(root = './data', train = False, download = True, transform = transform_test_inception)"
      ],
      "execution_count": 0,
      "outputs": [
        {
          "output_type": "stream",
          "text": [
            "Files already downloaded and verified\n",
            "Files already downloaded and verified\n"
          ],
          "name": "stdout"
        }
      ]
    },
    {
      "cell_type": "code",
      "metadata": {
        "id": "0aF_6mKDmGr0",
        "colab_type": "code",
        "colab": {}
      },
      "source": [
        "trainloader_inception = torch.utils.data.DataLoader(trainset_inception, batch_size = batch_size, shuffle = True)\n",
        "testloader_inception = torch.utils.data.DataLoader(testset_inception, batch_size = batch_size, shuffle = False)"
      ],
      "execution_count": 0,
      "outputs": []
    },
    {
      "cell_type": "code",
      "metadata": {
        "id": "830UODlPhuc7",
        "colab_type": "code",
        "colab": {}
      },
      "source": [
        "INCEPTION = INCEPTION.to(device)\n",
        "loss_fn = nn.CrossEntropyLoss()\n",
        "opt = optim.SGD(INCEPTION.parameters(), lr = 0.005)"
      ],
      "execution_count": 0,
      "outputs": []
    },
    {
      "cell_type": "code",
      "metadata": {
        "id": "v7vwyk4simjL",
        "colab_type": "code",
        "colab": {}
      },
      "source": [
        "def evaluation_inception(dataloader, model):\n",
        "  total, correct = 0,0\n",
        "  for data in dataloader:\n",
        "    inputs ,labels = data\n",
        "    inputs ,labels = inputs.to(device), labels.to(device)\n",
        "    outputs, aux_outputs = model(inputs)\n",
        "    _,pred = torch.max(outputs.data, 1)\n",
        "    total += labels.size(0)\n",
        "    correct += (pred == labels).sum().item()\n",
        "  return 100 * correct / total"
      ],
      "execution_count": 0,
      "outputs": []
    },
    {
      "cell_type": "code",
      "metadata": {
        "id": "S8nr5PbBjcKq",
        "colab_type": "code",
        "outputId": "a10f3c7d-ef3f-44ec-da0c-098762ffe461",
        "colab": {
          "base_uri": "https://localhost:8080/",
          "height": 970
        }
      },
      "source": [
        "loss_epoch_arr = []\n",
        "max_epochs = 1\n",
        "\n",
        "min_loss = 1000\n",
        "\n",
        "n_iters = np.ceil(50000/batch_size)\n",
        "\n",
        "for epoch in range(max_epochs):\n",
        "\n",
        "  for i, data in enumerate(trainloader_inception, 0):\n",
        "    inputs , labels = data\n",
        "    inputs , labels = inputs.to(device),labels.to(device)\n",
        "    \n",
        "    opt.zero_grad()\n",
        "   \n",
        "\n",
        "    outputs, aux_outputs =INCEPTION(inputs)\n",
        "    loss = loss_fn(outputs, labels) + 0.3 * loss_fn(aux_outputs, labels)\n",
        "    loss.backward()\n",
        "\n",
        "\n",
        "    opt.step()\n",
        " \n",
        "\n",
        "    if min_loss > loss.item():\n",
        "      min_loss = loss.item()\n",
        "      best_model = copy.deepcopy(INCEPTION.state_dict())\n",
        "      print(f\"MINIMUM LOSS :: {min_loss}\")\n",
        "\n",
        "    if i%100 == 0:\n",
        "      print(f\"ITERATION {i}/{n_iters}, LOSS :: {loss.item()}\")\n",
        "\n",
        "    del inputs, labels , outputs\n",
        "    torch.cuda.empty_cache()\n",
        "  \n",
        "\n",
        "  loss_epoch_arr.append(loss.item())\n",
        "  print(f'EPOCH: {epoch}/1 , TEST ACC :: {evaluation_inception(trainloader_inception,INCEPTION)}, TRAIN ACC :: {evaluation_inception(testloader_inception, INCEPTION)}')\n",
        "\n",
        "  plt.plot(loss_epoch_arr)\n",
        "  plt.show()"
      ],
      "execution_count": 0,
      "outputs": [
        {
          "output_type": "stream",
          "text": [
            "MINIMUM LOSS :: 1.7449171543121338\n",
            "ITERATION 0/3125.0, LOSS :: 1.7449171543121338\n",
            "MINIMUM LOSS :: 1.5528523921966553\n",
            "MINIMUM LOSS :: 1.4560391902923584\n",
            "MINIMUM LOSS :: 1.249593734741211\n",
            "MINIMUM LOSS :: 1.1950281858444214\n",
            "ITERATION 100/3125.0, LOSS :: 1.4809927940368652\n",
            "ITERATION 200/3125.0, LOSS :: 2.3748362064361572\n",
            "ITERATION 300/3125.0, LOSS :: 1.9972652196884155\n",
            "MINIMUM LOSS :: 1.1839773654937744\n",
            "ITERATION 400/3125.0, LOSS :: 1.3577899932861328\n",
            "ITERATION 500/3125.0, LOSS :: 1.7149722576141357\n",
            "ITERATION 600/3125.0, LOSS :: 1.3652762174606323\n",
            "MINIMUM LOSS :: 1.0768824815750122\n",
            "ITERATION 700/3125.0, LOSS :: 1.2661857604980469\n",
            "ITERATION 800/3125.0, LOSS :: 1.7360343933105469\n",
            "ITERATION 900/3125.0, LOSS :: 2.0789871215820312\n",
            "ITERATION 1000/3125.0, LOSS :: 1.21806001663208\n",
            "ITERATION 1100/3125.0, LOSS :: 2.1115472316741943\n",
            "MINIMUM LOSS :: 1.0119569301605225\n",
            "ITERATION 1200/3125.0, LOSS :: 2.405592679977417\n",
            "ITERATION 1300/3125.0, LOSS :: 2.083474636077881\n",
            "ITERATION 1400/3125.0, LOSS :: 2.081240653991699\n",
            "ITERATION 1500/3125.0, LOSS :: 2.1609060764312744\n",
            "ITERATION 1600/3125.0, LOSS :: 1.8223135471343994\n",
            "ITERATION 1700/3125.0, LOSS :: 2.0140810012817383\n",
            "ITERATION 1800/3125.0, LOSS :: 1.8049746751785278\n",
            "ITERATION 1900/3125.0, LOSS :: 1.9598052501678467\n",
            "ITERATION 2000/3125.0, LOSS :: 1.6920123100280762\n",
            "ITERATION 2100/3125.0, LOSS :: 2.290938138961792\n",
            "ITERATION 2200/3125.0, LOSS :: 2.2363624572753906\n",
            "ITERATION 2300/3125.0, LOSS :: 2.3410956859588623\n",
            "ITERATION 2400/3125.0, LOSS :: 1.556557536125183\n",
            "ITERATION 2500/3125.0, LOSS :: 2.1109068393707275\n",
            "ITERATION 2600/3125.0, LOSS :: 2.1002695560455322\n",
            "MINIMUM LOSS :: 0.8799290060997009\n",
            "ITERATION 2700/3125.0, LOSS :: 1.7198395729064941\n",
            "ITERATION 2800/3125.0, LOSS :: 1.32871675491333\n",
            "ITERATION 2900/3125.0, LOSS :: 2.2796216011047363\n",
            "ITERATION 3000/3125.0, LOSS :: 2.157503843307495\n",
            "ITERATION 3100/3125.0, LOSS :: 2.103058338165283\n",
            "EPOCH: 0/1 , TEST ACC :: 48.874, TRAIN ACC :: 48.29\n"
          ],
          "name": "stdout"
        },
        {
          "output_type": "display_data",
          "data": {
            "image/png": "[encoded data removed]",
            "text/plain": [
              "<Figure size 432x288 with 1 Axes>"
            ]
          },
          "metadata": {
            "tags": []
          }
        }
      ]
    },
    {
      "cell_type": "code",
      "metadata": {
        "id": "62rJU_FQk4tz",
        "colab_type": "code",
        "outputId": "31c84ed1-d4f6-40c7-f57b-0f4a9c36a7c9",
        "colab": {
          "base_uri": "https://localhost:8080/",
          "height": 34
        }
      },
      "source": [
        "INCEPTION.load_state_dict(best_model)\n",
        "print(evaluation_inception(trainloader_inception, INCEPTION), evaluation_inception(testloader_inception, INCEPTION))"
      ],
      "execution_count": 0,
      "outputs": [
        {
          "output_type": "stream",
          "text": [
            "48.008 48.14\n"
          ],
          "name": "stdout"
        }
      ]
    },
    {
      "cell_type": "code",
      "metadata": {
        "id": "updgLaPB3iBC",
        "colab_type": "code",
        "colab": {}
      },
      "source": [
        ""
      ],
      "execution_count": 0,
      "outputs": []
    }
  ]
}